{
  "nbformat": 4,
  "nbformat_minor": 0,
  "metadata": {
    "colab": {
      "name": "TimeSeries.ipynb",
      "provenance": [],
      "authorship_tag": "ABX9TyNf/0qlRurisKMeULPSuV+l",
      "include_colab_link": true
    },
    "kernelspec": {
      "name": "python3",
      "display_name": "Python 3"
    }
  },
  "cells": [
    {
      "cell_type": "markdown",
      "metadata": {
        "id": "view-in-github",
        "colab_type": "text"
      },
      "source": [
        "<a href=\"https://colab.research.google.com/github/mibeaum/ML/blob/master/TimeSeries.ipynb\" target=\"_parent\"><img src=\"https://colab.research.google.com/assets/colab-badge.svg\" alt=\"Open In Colab\"/></a>"
      ]
    },
    {
      "cell_type": "markdown",
      "metadata": {
        "id": "oPCSlAlPEMRq",
        "colab_type": "text"
      },
      "source": [
        "**Time series classification**\n",
        "\n"
      ]
    },
    {
      "cell_type": "markdown",
      "metadata": {
        "id": "eH8xuaVU_MZm",
        "colab_type": "text"
      },
      "source": [
        "Load Python modules"
      ]
    },
    {
      "cell_type": "code",
      "metadata": {
        "id": "FO5ZPX9zEb_B",
        "colab_type": "code",
        "colab": {
          "base_uri": "https://localhost:8080/",
          "height": 51
        },
        "outputId": "d9fe83f6-4f51-4351-c782-87c9ecaac4c8"
      },
      "source": [
        "import numpy as np  # Arrays, matrices and functions on them. Required by Pandas, below\n",
        "import pandas as pd # A data analysis library\n",
        "from sklearn.model_selection import train_test_split # scikit-learn, machine learning tools\n",
        "import matplotlib.pyplot as plt # A plotting library\n",
        "import seaborn as sns # Built on matplotlib, facilitates aesthetically pleasing plots\n",
        "from sklearn import cluster\n",
        "import datetime\n",
        "\n",
        "# General settings\n",
        "sns.set_style('whitegrid') # Plots will have a white grid\n",
        "# Variables that will help us work with the classes\n",
        "class_names = ['workstation', 'server']\n",
        "class_colors = ['darkorange', 'steelblue']\n",
        "kmeans2 = cluster.KMeans(n_clusters=2)"
      ],
      "execution_count": 6,
      "outputs": [
        {
          "output_type": "stream",
          "text": [
            "/usr/local/lib/python3.6/dist-packages/statsmodels/tools/_testing.py:19: FutureWarning: pandas.util.testing is deprecated. Use the functions in the public API at pandas.testing instead.\n",
            "  import pandas.util.testing as tm\n"
          ],
          "name": "stderr"
        }
      ]
    },
    {
      "cell_type": "markdown",
      "metadata": {
        "id": "D1fFqErdBOv1",
        "colab_type": "text"
      },
      "source": [
        "Functions"
      ]
    },
    {
      "cell_type": "code",
      "metadata": {
        "id": "kzCrKpdIBS4y",
        "colab_type": "code",
        "colab": {}
      },
      "source": [
        "def load_data(filename):\n",
        "    ''' Load the data from a file in a GitHub repo '''\n",
        "    url_root = 'https://raw.githubusercontent.com/mibeaum/ML/master'\n",
        "    url = url_root+'/'+filename\n",
        "    mydateparser = lambda x: ( \n",
        "       # pd.to_datetime(x, format=\"%d/%m/%Y%H:%M:%S\").strftime(\"%H%M%S\")\n",
        "       pd.to_datetime(x, format=\"%d/%m/%Y%H:%M:%S\").time\n",
        "    )    \n",
        "    df = pd.read_csv(url, sep=',', header=0, usecols = [\"server\", \"dateTime\", \"internalPacketIdentifier\"], parse_dates=['dateTime'], date_parser=mydateparser) # Use Pandas to load the data into a Pandas DataFrame\n",
        "    print('Loaded from', url)\n",
        "    data = df.values # Convert from a Pandas DataFrame to a numpy array\n",
        "    print('The shape of data is', data.shape)\n",
        "    print('')\n",
        "    return df\n",
        "\n",
        "def plot_data_samples(df, labels):\n",
        "    ''' Plot the time series data relating to the input list of sample numbers '''\n",
        "    my_day = datetime.date(1970, 11, 7)\n",
        "    x_dt = [ datetime.datetime.combine(my_day, t) for t in df['dateTime'] ]\n",
        "    plt.scatter(x_dt, df['server'])\n",
        "\n",
        "    x_dt_min = datetime.datetime.combine(my_day, datetime.datetime.min.time())\n",
        "    x_dt_max = datetime.datetime.combine(my_day, datetime.datetime.max.time())\n",
        "\n",
        "    xlabels = [x.strftime(\"%H%M%S\") for x in x_dt]\n",
        "    plt.xticks(x_dt,xlabels)\n",
        "\n",
        "    ylabels = [x for x in df['server']]\n",
        "    plt.yticks(df['server'], ylabels)\n",
        "\n",
        "    print('')\n",
        "    #plt.set ylim([00.00, 23.59])\n",
        "    plt.title('workstation (class 0): server (class 1)')\n",
        "    plt.ylabel('Server')\n",
        "    plt.xlabel('Time')    "
      ],
      "execution_count": 7,
      "outputs": []
    },
    {
      "cell_type": "markdown",
      "metadata": {
        "id": "4NolzYI6B5dN",
        "colab_type": "text"
      },
      "source": [
        "Load the data"
      ]
    },
    {
      "cell_type": "code",
      "metadata": {
        "id": "z4G5WUZPB7zy",
        "colab_type": "code",
        "colab": {
          "base_uri": "https://localhost:8080/",
          "height": 221
        },
        "outputId": "e4b70c01-6eef-4c0a-a495-507d0a7322c5"
      },
      "source": [
        "filename = 'data.csv'\n",
        "df = load_data(filename) \n",
        "data_log = df.values # Convert from a Pandas DataFrame to a numpy array\n",
        "print('These are the first 7 rows of data_log:\\n', data_log[0:7], '\\n')"
      ],
      "execution_count": 22,
      "outputs": [
        {
          "output_type": "stream",
          "text": [
            "Loaded from https://raw.githubusercontent.com/mibeaum/ML/master/data.csv\n",
            "The shape of data is (42, 3)\n",
            "\n",
            "The data is a matrix. These are the first 7 rows of data:\n",
            " [[0 datetime.time(8, 11, 10) '0000026335FA1560']\n",
            " [0 datetime.time(9, 23, 2) '0000026335FA1560']\n",
            " [1 datetime.time(19, 30, 22) '0000026335C83DB0']\n",
            " [1 datetime.time(20, 3, 23) '0000026335C83DB0']\n",
            " [0 datetime.time(10, 19, 31) '0000026338FC9920']\n",
            " [0 datetime.time(11, 23, 21) '0000026338FC9920']\n",
            " [0 datetime.time(11, 30, 12) '00000263351894F0']] \n",
            "\n"
          ],
          "name": "stdout"
        }
      ]
    },
    {
      "cell_type": "markdown",
      "metadata": {
        "id": "CUiywPW9nqSh",
        "colab_type": "text"
      },
      "source": [
        "Process the data"
      ]
    },
    {
      "cell_type": "code",
      "metadata": {
        "id": "0m_hJWbQnsNt",
        "colab_type": "code",
        "colab": {
          "base_uri": "https://localhost:8080/",
          "height": 255
        },
        "outputId": "1fd5b24e-d4c4-46e3-a982-f19be4b314cd"
      },
      "source": [
        "labels = data_log[:,0].astype(int)\n",
        "data = data_log[:,1:]\n",
        "print('The shape of the labels vector is', labels.shape)\n",
        "print('The shape of the data matrix is', data.shape)\n",
        "print('These are the first 7 elements of labels vector:\\n', labels[0:7], '\\n')\n",
        "print('These are the first 7 rows of data matrix:\\n', data[0:7], '\\n')\n",
        "\n"
      ],
      "execution_count": 33,
      "outputs": [
        {
          "output_type": "stream",
          "text": [
            "The shape of the labels vector is (42,)\n",
            "The shape of the data matrix is (42, 2)\n",
            "These are the first 7 elements of labels vector:\n",
            " [0 0 1 1 0 0 0] \n",
            "\n",
            "These are the first 7 rows of data matrix:\n",
            " [[datetime.time(8, 11, 10) '0000026335FA1560']\n",
            " [datetime.time(9, 23, 2) '0000026335FA1560']\n",
            " [datetime.time(19, 30, 22) '0000026335C83DB0']\n",
            " [datetime.time(20, 3, 23) '0000026335C83DB0']\n",
            " [datetime.time(10, 19, 31) '0000026338FC9920']\n",
            " [datetime.time(11, 23, 21) '0000026338FC9920']\n",
            " [datetime.time(11, 30, 12) '00000263351894F0']] \n",
            "\n"
          ],
          "name": "stdout"
        }
      ]
    },
    {
      "cell_type": "markdown",
      "metadata": {
        "id": "Oroom3fBonG1",
        "colab_type": "text"
      },
      "source": [
        "Plot the data"
      ]
    },
    {
      "cell_type": "code",
      "metadata": {
        "id": "WAUnR63oorkg",
        "colab_type": "code",
        "colab": {
          "base_uri": "https://localhost:8080/",
          "height": 312
        },
        "outputId": "6bdaa795-026d-4a37-f044-9cbf39dd9280"
      },
      "source": [
        "plot_data_samples(df[0:7], labels) "
      ],
      "execution_count": 34,
      "outputs": [
        {
          "output_type": "stream",
          "text": [
            "\n"
          ],
          "name": "stdout"
        },
        {
          "output_type": "display_data",
          "data": {
            "image/png": "[encoded data removed]",
            "text/plain": [
              "<Figure size 432x288 with 1 Axes>"
            ]
          },
          "metadata": {
            "tags": []
          }
        }
      ]
    },
    {
      "cell_type": "markdown",
      "metadata": {
        "id": "ljKRkIpER8sR",
        "colab_type": "text"
      },
      "source": [
        "Split the data set"
      ]
    },
    {
      "cell_type": "code",
      "metadata": {
        "id": "9AFIs-MOSBVx",
        "colab_type": "code",
        "colab": {}
      },
      "source": [
        "final_test_set_size = 7\n",
        "\n",
        "# Use the train_test_split from the scikit-learn (sklearn) module\n",
        "data_dev, data_finaltest, labels_dev, labels_finaltest = train_test_split(\n",
        "    data, labels, test_size=final_test_set_size, random_state=21, stratify=labels)\n"
      ],
      "execution_count": 36,
      "outputs": []
    }
  ]
}