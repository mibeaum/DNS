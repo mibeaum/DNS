{
  "nbformat": 4,
  "nbformat_minor": 0,
  "metadata": {
    "colab": {
      "name": "TimeSeries.ipynb",
      "provenance": [],
      "authorship_tag": "ABX9TyMa35xVX0cq+LWHPdl/pPnT",
      "include_colab_link": true
    },
    "kernelspec": {
      "name": "python3",
      "display_name": "Python 3"
    }
  },
  "cells": [
    {
      "cell_type": "markdown",
      "metadata": {
        "id": "view-in-github",
        "colab_type": "text"
      },
      "source": [
        "<a href=\"https://colab.research.google.com/github/mibeaum/ML/blob/master/TimeSeries.ipynb\" target=\"_parent\"><img src=\"https://colab.research.google.com/assets/colab-badge.svg\" alt=\"Open In Colab\"/></a>"
      ]
    },
    {
      "cell_type": "markdown",
      "metadata": {
        "id": "oPCSlAlPEMRq",
        "colab_type": "text"
      },
      "source": [
        "**Time series classification**\n",
        "\n"
      ]
    },
    {
      "cell_type": "markdown",
      "metadata": {
        "id": "eH8xuaVU_MZm",
        "colab_type": "text"
      },
      "source": [
        "Load Python modules"
      ]
    },
    {
      "cell_type": "code",
      "metadata": {
        "id": "FO5ZPX9zEb_B",
        "colab_type": "code",
        "colab": {}
      },
      "source": [
        "import numpy as np  # Arrays, matrices and functions on them. Required by Pandas, below\n",
        "import pandas as pd # A data analysis library\n",
        "from sklearn.model_selection import train_test_split # scikit-learn, machine learning tools\n",
        "import matplotlib.pyplot as plt # A plotting library\n",
        "import seaborn as sns # Built on matplotlib, facilitates aesthetically pleasing plots\n",
        "\n",
        "# General settings\n",
        "sns.set_style('whitegrid') # Plots will have a white grid\n",
        "# Variables that will help us work with the classes\n",
        "class_names = ['cement', 'carpet']\n",
        "class_colors = ['darkorange', 'steelblue']"
      ],
      "execution_count": 4,
      "outputs": []
    },
    {
      "cell_type": "markdown",
      "metadata": {
        "id": "D1fFqErdBOv1",
        "colab_type": "text"
      },
      "source": [
        "Functions"
      ]
    },
    {
      "cell_type": "code",
      "metadata": {
        "id": "kzCrKpdIBS4y",
        "colab_type": "code",
        "colab": {}
      },
      "source": [
        "def load_data(filename):\n",
        "    ''' Load the data from a file in a GitHub repo '''\n",
        "    url_root = 'https://raw.githubusercontent.com/mibeaum/ML/master'\n",
        "    url = url_root+'/'+filename\n",
        "    df = pd.read_csv(url, sep=',', header=0, usecols = [\"server\", \"dateTime\", \"internalPacketIdentifier\"]) # Use Pandas to load the data into a Pandas DataFrame\n",
        "    print('Loaded from', url)\n",
        "    data = df.values # Convert from a Pandas DataFrame to a numpy array\n",
        "    print('The shape of data is', data.shape)\n",
        "    print('')\n",
        "    return data\n",
        "\n",
        "def plot_data_samples(data, labels, sample_numbers):\n",
        "    ''' Plot the time series data relating to the input list of sample numbers '''\n",
        "    # Input format - a list, e.g. [1, 7, 22, 42]\n",
        "    fig, ax = plt.subplots()\n",
        "\n",
        "    for i in sample_numbers:\n",
        "        plt.plot(data[i], label=class_names[labels[i]], color=class_colors[labels[i]])\n",
        "        print('sample', i, 'class', str(labels[i]), class_names[labels[i]])\n",
        "\n",
        "    print('')\n",
        "    plt.ylim([-3.5, 3.5])\n",
        "    plt.title('Orange : cement (class 0)\\nBlue : carpet (class 1)')\n",
        "    ax.set_ylabel('Accelerometer data')\n",
        "    ax.set_xlabel('Data point number')    "
      ],
      "execution_count": 39,
      "outputs": []
    },
    {
      "cell_type": "markdown",
      "metadata": {
        "id": "4NolzYI6B5dN",
        "colab_type": "text"
      },
      "source": [
        "Load the data"
      ]
    },
    {
      "cell_type": "code",
      "metadata": {
        "id": "z4G5WUZPB7zy",
        "colab_type": "code",
        "colab": {
          "base_uri": "https://localhost:8080/",
          "height": 221
        },
        "outputId": "be14a1b8-8715-48e6-a69e-4ea96f28048e"
      },
      "source": [
        "filename = 'data.csv'\n",
        "data_log = load_data(filename) \n",
        "print('The data is a matrix. These are the first 7 rows and 3 columns of data:\\n', data_log[:7, :3], '\\n')"
      ],
      "execution_count": 40,
      "outputs": [
        {
          "output_type": "stream",
          "text": [
            "Loaded from https://raw.githubusercontent.com/mibeaum/ML/master/data.csv\n",
            "The shape of data is (42, 3)\n",
            "\n",
            "The data is a matrix. These are the first 7 rows and 3 columns of data:\n",
            " [[0 '01/06/202014:49:12' '0000026335FA1560']\n",
            " [0 '01/06/202014:49:12' '0000026335FA1560']\n",
            " [1 '01/06/202019:49:12' '0000026335C83DB0']\n",
            " [1 '01/06/202019:49:12' '0000026335C83DB0']\n",
            " [0 '01/06/202014:49:12' '0000026338FC9920']\n",
            " [0 '01/06/202014:49:12' '0000026338FC9920']\n",
            " [0 '01/06/202014:49:12' '00000263351894F0']] \n",
            "\n"
          ],
          "name": "stdout"
        }
      ]
    },
    {
      "cell_type": "markdown",
      "metadata": {
        "id": "CUiywPW9nqSh",
        "colab_type": "text"
      },
      "source": [
        "Process the data"
      ]
    },
    {
      "cell_type": "code",
      "metadata": {
        "id": "0m_hJWbQnsNt",
        "colab_type": "code",
        "colab": {
          "base_uri": "https://localhost:8080/",
          "height": 51
        },
        "outputId": "b10936e7-e880-46e9-85ee-0267ed4e489b"
      },
      "source": [
        "labels = data_log[:,0].astype(int)\n",
        "data = data_log[:,1:]\n",
        "print('The shape of the data matrix is', data.shape)\n",
        "print('The shape of the labels vector is', labels.shape)"
      ],
      "execution_count": 41,
      "outputs": [
        {
          "output_type": "stream",
          "text": [
            "The shape of the data matrix is (42, 2)\n",
            "The shape of the labels vector is (42,)\n"
          ],
          "name": "stdout"
        }
      ]
    },
    {
      "cell_type": "markdown",
      "metadata": {
        "id": "Oroom3fBonG1",
        "colab_type": "text"
      },
      "source": [
        "Plot the data"
      ]
    },
    {
      "cell_type": "code",
      "metadata": {
        "id": "WAUnR63oorkg",
        "colab_type": "code",
        "colab": {}
      },
      "source": [
        ""
      ],
      "execution_count": null,
      "outputs": []
    }
  ]
}