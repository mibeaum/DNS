{
  "nbformat": 4,
  "nbformat_minor": 0,
  "metadata": {
    "colab": {
      "name": "TimeSeries.ipynb",
      "provenance": [],
      "authorship_tag": "ABX9TyM6i/xByVZceczsll/homVs",
      "include_colab_link": true
    },
    "kernelspec": {
      "name": "python3",
      "display_name": "Python 3"
    }
  },
  "cells": [
    {
      "cell_type": "markdown",
      "metadata": {
        "id": "view-in-github",
        "colab_type": "text"
      },
      "source": [
        "<a href=\"https://colab.research.google.com/github/mibeaum/ML/blob/master/TimeSeries.ipynb\" target=\"_parent\"><img src=\"https://colab.research.google.com/assets/colab-badge.svg\" alt=\"Open In Colab\"/></a>"
      ]
    },
    {
      "cell_type": "markdown",
      "metadata": {
        "id": "oPCSlAlPEMRq",
        "colab_type": "text"
      },
      "source": [
        "**Time classification**\n",
        "\n"
      ]
    },
    {
      "cell_type": "markdown",
      "metadata": {
        "id": "eH8xuaVU_MZm",
        "colab_type": "text"
      },
      "source": [
        "Load Python modules"
      ]
    },
    {
      "cell_type": "code",
      "metadata": {
        "id": "FO5ZPX9zEb_B",
        "colab_type": "code",
        "colab": {
          "base_uri": "https://localhost:8080/",
          "height": 51
        },
        "outputId": "b03bfc85-a840-402d-dade-343087371bdb"
      },
      "source": [
        "import numpy as np  # Arrays, matrices and functions on them. Required by Pandas, below\n",
        "import pandas as pd # A data analysis library\n",
        "from sklearn.model_selection import train_test_split # scikit-learn, machine learning tools\n",
        "import matplotlib.pyplot as plt # A plotting library\n",
        "import seaborn as sns # Built on matplotlib, facilitates aesthetically pleasing plots\n",
        "import datetime\n",
        "from sklearn.neighbors import KNeighborsClassifier\n",
        "from sklearn.ensemble import RandomForestClassifier\n",
        "from sklearn.svm import SVC\n",
        "from sklearn import metrics\n",
        "\n",
        "from pydrive.auth import GoogleAuth\n",
        "from pydrive.drive import GoogleDrive\n",
        "from google.colab import auth\n",
        "from oauth2client.client import GoogleCredentials\n",
        "\n",
        "# General settings\n",
        "sns.set_style('whitegrid') # Plots will have a white grid\n",
        "# Variables that will help us work with the classes\n",
        "class_names = ['workstation', 'server']\n",
        "class_colors = ['darkorange', 'steelblue']\n",
        "\n",
        "classifier_3NN = KNeighborsClassifier(n_neighbors=3, metric='euclidean')\n",
        "classifier_rf = RandomForestClassifier()\n",
        "classifier_svc = SVC()\n",
        "\n",
        "auth.authenticate_user()\n",
        "gauth = GoogleAuth()\n",
        "gauth.credentials = GoogleCredentials.get_application_default()\n",
        "drive = GoogleDrive(gauth)\n"
      ],
      "execution_count": 2,
      "outputs": [
        {
          "output_type": "stream",
          "text": [
            "/usr/local/lib/python3.6/dist-packages/statsmodels/tools/_testing.py:19: FutureWarning: pandas.util.testing is deprecated. Use the functions in the public API at pandas.testing instead.\n",
            "  import pandas.util.testing as tm\n"
          ],
          "name": "stderr"
        }
      ]
    },
    {
      "cell_type": "markdown",
      "metadata": {
        "id": "D1fFqErdBOv1",
        "colab_type": "text"
      },
      "source": [
        "Functions"
      ]
    },
    {
      "cell_type": "code",
      "metadata": {
        "id": "kzCrKpdIBS4y",
        "colab_type": "code",
        "colab": {}
      },
      "source": [
        "def load_data(filename):\n",
        "    \n",
        "    downloaded = drive.CreateFile({'id':\"1PIwZtFiMzzFgFkEjKSJYx8-mRUTyqkzN\"})   # replace the id with id of file you want to access\n",
        "    downloaded.GetContentFile(filename) \n",
        " \n",
        "    mydateparser = lambda x: ( \n",
        "       pd.to_datetime(x, format=\"%d/%m/%Y%H:%M:%S\").strftime(\"%H\")\n",
        "    )    \n",
        "\n",
        "    df = pd.read_csv(filename, sep=',', header=0, usecols = [\"Server\", \"dateTime\", \"remoteIP\"], parse_dates=['dateTime'], date_parser=mydateparser) # Use Pandas to load the data into a Pandas DataFrame\n",
        "    df[\"dateTime\"] = df[\"dateTime\"].astype(float)\n",
        "    df.sort_values(by=['dateTime'])\n",
        "    print('Loaded from', filename)\n",
        "    data = df.values # Convert from a Pandas DataFrame to a numpy array\n",
        "    print('')\n",
        "    return df\n",
        "\n",
        "def plot_data_samples(df):\n",
        "    ''' Plot the time series data relating to the input list of sample numbers '''\n",
        "    plt.scatter(df['dateTime'], df['Server'])\n",
        "\n",
        "    ylabels = [x for x in df['Server']]\n",
        "    plt.yticks(df['Server'], ylabels)\n",
        "\n",
        "    print('')\n",
        "    #plt.set ylim([00.00, 23.59])\n",
        "    plt.title('workstation (class 0): server (class 1)')\n",
        "    plt.ylabel('Server')\n",
        "    plt.xlabel('Time (Hours)') \n",
        "\n",
        "\n",
        "def plot_data(df):\n",
        "    ''' Plot the time series data relating to the input list of sample numbers '''\n",
        "\n",
        "    ylabels = [x for x in df['Server']]\n",
        "    plt.yticks(df['Server'], ylabels)\n",
        "\n",
        "    plt.title('workstation (class 0): server (class 1)')\n",
        "    plt.ylabel('Server')\n",
        "    plt.xlabel('Time (Hours)') \n",
        "\n",
        "    groups = df.groupby(\"diff\")\n",
        "    for name, group in groups:\n",
        "       plt.plot(group[\"hour_pred\"], group[\"Server\"], marker=\"o\", linestyle=\"\", label=name)\n",
        "\n",
        "    #plt.scatter(df['hour_pred'], df['server'], marker=\"o\", linestyle=\"\", label=df['diff'])\n",
        "    plt.legend(loc='center left', bbox_to_anchor=(1.0, 0.5))   \n",
        "\n",
        "\n",
        "\n",
        "    \n"
      ],
      "execution_count": 11,
      "outputs": []
    },
    {
      "cell_type": "markdown",
      "metadata": {
        "id": "4NolzYI6B5dN",
        "colab_type": "text"
      },
      "source": [
        "Load the data"
      ]
    },
    {
      "cell_type": "code",
      "metadata": {
        "id": "z4G5WUZPB7zy",
        "colab_type": "code",
        "colab": {
          "base_uri": "https://localhost:8080/",
          "height": 204
        },
        "outputId": "736858e2-8aea-4a14-ac6b-16a685f67fb1"
      },
      "source": [
        "filename = 'dnsanom.csv'\n",
        "df = load_data(filename) \n",
        "df.Server.replace(('Y', 'N'), (1, 0), inplace=True)\n",
        "data_log = df.values # Convert from a Pandas DataFrame to a numpy array\n",
        "print('These are the first 7 rows of data_log:\\n', data_log[0:7], '\\n')"
      ],
      "execution_count": 4,
      "outputs": [
        {
          "output_type": "stream",
          "text": [
            "Loaded from dnsanom.csv\n",
            "\n",
            "These are the first 7 rows of data_log:\n",
            " [[15.0 '192.0.0.1' 1]\n",
            " [15.0 '192.0.0.1' 1]\n",
            " [15.0 '192.0.0.2' 0]\n",
            " [15.0 '192.0.0.2' 0]\n",
            " [15.0 '192.0.0.3' 1]\n",
            " [15.0 '192.0.0.4' 0]\n",
            " [15.0 '192.0.0.5' 1]] \n",
            "\n"
          ],
          "name": "stdout"
        }
      ]
    },
    {
      "cell_type": "markdown",
      "metadata": {
        "id": "CUiywPW9nqSh",
        "colab_type": "text"
      },
      "source": [
        "Process the data"
      ]
    },
    {
      "cell_type": "code",
      "metadata": {
        "id": "0m_hJWbQnsNt",
        "colab_type": "code",
        "colab": {
          "base_uri": "https://localhost:8080/",
          "height": 255
        },
        "outputId": "67082476-ee35-4294-bc32-11cb59e973e3"
      },
      "source": [
        "labels = data_log[:,2].astype(int)\n",
        "data = data_log[:,0:]\n",
        "print('The shape of the labels vector is', labels.shape)\n",
        "print('The shape of the data matrix is', data.shape)\n",
        "print('The labels is a vector. These are the first 7 elements of labels vector:\\n', labels[0:7], '\\n')\n",
        "print('The data is a matrix. These are the first 7 rows of data matrix:\\n', data[0:7], '\\n')\n",
        "\n"
      ],
      "execution_count": 5,
      "outputs": [
        {
          "output_type": "stream",
          "text": [
            "The shape of the labels vector is (890847,)\n",
            "The shape of the data matrix is (890847, 3)\n",
            "The labels is a vector. These are the first 7 elements of labels vector:\n",
            " [1 1 0 0 1 0 1] \n",
            "\n",
            "The data is a matrix. These are the first 7 rows of data matrix:\n",
            " [[15.0 '192.0.0.1' 1]\n",
            " [15.0 '192.0.0.1' 1]\n",
            " [15.0 '192.0.0.2' 0]\n",
            " [15.0 '192.0.0.2' 0]\n",
            " [15.0 '192.0.0.3' 1]\n",
            " [15.0 '192.0.0.4' 0]\n",
            " [15.0 '192.0.0.5' 1]] \n",
            "\n"
          ],
          "name": "stdout"
        }
      ]
    },
    {
      "cell_type": "markdown",
      "metadata": {
        "id": "Oroom3fBonG1",
        "colab_type": "text"
      },
      "source": [
        "Plot the data"
      ]
    },
    {
      "cell_type": "code",
      "metadata": {
        "id": "WAUnR63oorkg",
        "colab_type": "code",
        "colab": {
          "base_uri": "https://localhost:8080/",
          "height": 312
        },
        "outputId": "d1a607c9-1d31-4451-b790-f210e2f79dba"
      },
      "source": [
        "plot_data_samples(df[0:7]) "
      ],
      "execution_count": 6,
      "outputs": [
        {
          "output_type": "stream",
          "text": [
            "\n"
          ],
          "name": "stdout"
        },
        {
          "output_type": "display_data",
          "data": {
            "image/png": "[encoded data removed]",
            "text/plain": [
              "<Figure size 432x288 with 1 Axes>"
            ]
          },
          "metadata": {
            "tags": []
          }
        }
      ]
    },
    {
      "cell_type": "markdown",
      "metadata": {
        "id": "ljKRkIpER8sR",
        "colab_type": "text"
      },
      "source": [
        "Split the data set"
      ]
    },
    {
      "cell_type": "code",
      "metadata": {
        "id": "9AFIs-MOSBVx",
        "colab_type": "code",
        "colab": {
          "base_uri": "https://localhost:8080/",
          "height": 272
        },
        "outputId": "560d96a0-6e73-4c9c-9bb0-e962bdcd5071"
      },
      "source": [
        "test_size = 0.25\n",
        "\n",
        "# Use the train_test_split from the scikit-learn (sklearn) module\n",
        "# Splitting the data set so that each split is similar with respect to labels\n",
        "# Split 75% to train and 25% to test \n",
        "data_train, data_test, labels_train, labels_test = train_test_split(\n",
        "    data, labels, test_size=test_size, stratify=labels)\n",
        "\n",
        "print('The shape of data_train is', data_train.shape)\n",
        "print('The shape of data_test is', data_test.shape)\n",
        "print('Train data:')\n",
        "print('Number of samples of class 0', (labels_train == 0).sum())\n",
        "print('Number of samples of class 1', (labels_train == 1).sum())\n",
        "#print('Number of samples of class unknown', (labels_train.any != 1 and labels_train.any != 0))\n",
        "print('Test data:')\n",
        "print('Number of samples of class 0', (labels_test == 0).sum())\n",
        "print('Number of samples of class 1', (labels_test == 1).sum())\n",
        "\n",
        "data_train[0:7]\n",
        "\n",
        "\n"
      ],
      "execution_count": 7,
      "outputs": [
        {
          "output_type": "stream",
          "text": [
            "The shape of data_train is (668135, 3)\n",
            "The shape of data_test is (222712, 3)\n",
            "Train data:\n",
            "Number of samples of class 0 217213\n",
            "Number of samples of class 1 450922\n",
            "Test data:\n",
            "Number of samples of class 0 72404\n",
            "Number of samples of class 1 150308\n"
          ],
          "name": "stdout"
        },
        {
          "output_type": "execute_result",
          "data": {
            "text/plain": [
              "array([[23.0, '192.0.1.0', 0],\n",
              "       [16.0, '192.0.0.25', 1],\n",
              "       [6.0, '192.0.0.208', 1],\n",
              "       [6.0, '192.0.0.18', 1],\n",
              "       [20.0, '192.0.0.25', 1],\n",
              "       [4.0, '192.0.0.25', 1],\n",
              "       [0.0, '192.0.0.224', 0]], dtype=object)"
            ]
          },
          "metadata": {
            "tags": []
          },
          "execution_count": 7
        }
      ]
    },
    {
      "cell_type": "markdown",
      "metadata": {
        "id": "PiopsUTPSbQJ",
        "colab_type": "text"
      },
      "source": [
        "Train using the knearest neighbours classifier\n",
        "\n"
      ]
    },
    {
      "cell_type": "code",
      "metadata": {
        "id": "2_YZMcwGSeJk",
        "colab_type": "code",
        "colab": {
          "base_uri": "https://localhost:8080/",
          "height": 68
        },
        "outputId": "3f758bf8-3876-4e92-8fb7-5e6597466f27"
      },
      "source": [
        "classifier_3NN.fit(data_train[:,0].reshape(-1,1), labels_train)"
      ],
      "execution_count": 8,
      "outputs": [
        {
          "output_type": "execute_result",
          "data": {
            "text/plain": [
              "KNeighborsClassifier(algorithm='auto', leaf_size=30, metric='euclidean',\n",
              "                     metric_params=None, n_jobs=None, n_neighbors=3, p=2,\n",
              "                     weights='uniform')"
            ]
          },
          "metadata": {
            "tags": []
          },
          "execution_count": 8
        }
      ]
    },
    {
      "cell_type": "markdown",
      "metadata": {
        "id": "nyXymKGYUEJ4",
        "colab_type": "text"
      },
      "source": [
        "Test using the knearest neighbours classifier"
      ]
    },
    {
      "cell_type": "code",
      "metadata": {
        "id": "Qw_6c-VQUHQU",
        "colab_type": "code",
        "colab": {
          "base_uri": "https://localhost:8080/",
          "height": 170
        },
        "outputId": "8da44ecc-95d2-4990-953f-5618029bdb6d"
      },
      "source": [
        "data_pred = classifier_3NN.predict(data_test[:,0].reshape(-1,1)) # Expects a 2 dimensional array not 1 (1,0) becomes ((1,),(0,))  \n",
        "\n",
        "# create output dataframe \n",
        "output_pred = data_test.copy();\n",
        "output_pred_df = pd.DataFrame({'server':labels_test, 'server_pred':data_pred})\n",
        "output_pred_df[\"hour_pred\"],output_pred_df[\"identifier_pred\"],output_pred_df['diff'] = output_pred[:,0], output_pred[:,1],np.where(output_pred_df['server']==output_pred_df['server_pred'], 'Pass', 'Fail')\n",
        " \n",
        "# output the accuracy scores\n",
        "print(metrics.classification_report(data_pred, labels_test))\n",
        "\n"
      ],
      "execution_count": 9,
      "outputs": [
        {
          "output_type": "stream",
          "text": [
            "              precision    recall  f1-score   support\n",
            "\n",
            "           0       0.22      0.42      0.29     37166\n",
            "           1       0.86      0.69      0.77    185546\n",
            "\n",
            "    accuracy                           0.65    222712\n",
            "   macro avg       0.54      0.56      0.53    222712\n",
            "weighted avg       0.75      0.65      0.69    222712\n",
            "\n"
          ],
          "name": "stdout"
        }
      ]
    },
    {
      "cell_type": "markdown",
      "metadata": {
        "id": "kmRcZCRqxJCz",
        "colab_type": "text"
      },
      "source": [
        "Plot test prediction\n",
        " \n",
        "*   'no'  there are no differences between actual and predicted\n",
        "*   'yes' there are differences between actual and predicted "
      ]
    },
    {
      "cell_type": "code",
      "metadata": {
        "id": "6HKjw7rnBjQC",
        "colab_type": "code",
        "colab": {
          "base_uri": "https://localhost:8080/",
          "height": 697
        },
        "outputId": "5f8ceeb7-6662-48e0-e0aa-9f893ffa089f"
      },
      "source": [
        "plot_data(output_pred_df)"
      ],
      "execution_count": 12,
      "outputs": [
        {
          "output_type": "error",
          "ename": "KeyError",
          "evalue": "ignored",
          "traceback": [
            "\u001b[0;31m---------------------------------------------------------------------------\u001b[0m",
            "\u001b[0;31mKeyError\u001b[0m                                  Traceback (most recent call last)",
            "\u001b[0;32m/usr/local/lib/python3.6/dist-packages/pandas/core/indexes/base.py\u001b[0m in \u001b[0;36mget_loc\u001b[0;34m(self, key, method, tolerance)\u001b[0m\n\u001b[1;32m   2645\u001b[0m             \u001b[0;32mtry\u001b[0m\u001b[0;34m:\u001b[0m\u001b[0;34m\u001b[0m\u001b[0;34m\u001b[0m\u001b[0m\n\u001b[0;32m-> 2646\u001b[0;31m                 \u001b[0;32mreturn\u001b[0m \u001b[0mself\u001b[0m\u001b[0;34m.\u001b[0m\u001b[0m_engine\u001b[0m\u001b[0;34m.\u001b[0m\u001b[0mget_loc\u001b[0m\u001b[0;34m(\u001b[0m\u001b[0mkey\u001b[0m\u001b[0;34m)\u001b[0m\u001b[0;34m\u001b[0m\u001b[0;34m\u001b[0m\u001b[0m\n\u001b[0m\u001b[1;32m   2647\u001b[0m             \u001b[0;32mexcept\u001b[0m \u001b[0mKeyError\u001b[0m\u001b[0;34m:\u001b[0m\u001b[0;34m\u001b[0m\u001b[0;34m\u001b[0m\u001b[0m\n",
            "\u001b[0;32mpandas/_libs/index.pyx\u001b[0m in \u001b[0;36mpandas._libs.index.IndexEngine.get_loc\u001b[0;34m()\u001b[0m\n",
            "\u001b[0;32mpandas/_libs/index.pyx\u001b[0m in \u001b[0;36mpandas._libs.index.IndexEngine.get_loc\u001b[0;34m()\u001b[0m\n",
            "\u001b[0;32mpandas/_libs/hashtable_class_helper.pxi\u001b[0m in \u001b[0;36mpandas._libs.hashtable.PyObjectHashTable.get_item\u001b[0;34m()\u001b[0m\n",
            "\u001b[0;32mpandas/_libs/hashtable_class_helper.pxi\u001b[0m in \u001b[0;36mpandas._libs.hashtable.PyObjectHashTable.get_item\u001b[0;34m()\u001b[0m\n",
            "\u001b[0;31mKeyError\u001b[0m: 'Server'",
            "\nDuring handling of the above exception, another exception occurred:\n",
            "\u001b[0;31mKeyError\u001b[0m                                  Traceback (most recent call last)",
            "\u001b[0;32m<ipython-input-12-6307d9aefa44>\u001b[0m in \u001b[0;36m<module>\u001b[0;34m()\u001b[0m\n\u001b[0;32m----> 1\u001b[0;31m \u001b[0mplot_data\u001b[0m\u001b[0;34m(\u001b[0m\u001b[0moutput_pred_df\u001b[0m\u001b[0;34m)\u001b[0m\u001b[0;34m\u001b[0m\u001b[0;34m\u001b[0m\u001b[0m\n\u001b[0m",
            "\u001b[0;32m<ipython-input-11-8a64496b34f3>\u001b[0m in \u001b[0;36mplot_data\u001b[0;34m(df)\u001b[0m\n\u001b[1;32m     33\u001b[0m     \u001b[0;34m''' Plot the time series data relating to the input list of sample numbers '''\u001b[0m\u001b[0;34m\u001b[0m\u001b[0;34m\u001b[0m\u001b[0m\n\u001b[1;32m     34\u001b[0m \u001b[0;34m\u001b[0m\u001b[0m\n\u001b[0;32m---> 35\u001b[0;31m     \u001b[0mylabels\u001b[0m \u001b[0;34m=\u001b[0m \u001b[0;34m[\u001b[0m\u001b[0mx\u001b[0m \u001b[0;32mfor\u001b[0m \u001b[0mx\u001b[0m \u001b[0;32min\u001b[0m \u001b[0mdf\u001b[0m\u001b[0;34m[\u001b[0m\u001b[0;34m'Server'\u001b[0m\u001b[0;34m]\u001b[0m\u001b[0;34m]\u001b[0m\u001b[0;34m\u001b[0m\u001b[0;34m\u001b[0m\u001b[0m\n\u001b[0m\u001b[1;32m     36\u001b[0m     \u001b[0mplt\u001b[0m\u001b[0;34m.\u001b[0m\u001b[0myticks\u001b[0m\u001b[0;34m(\u001b[0m\u001b[0mdf\u001b[0m\u001b[0;34m[\u001b[0m\u001b[0;34m'Server'\u001b[0m\u001b[0;34m]\u001b[0m\u001b[0;34m,\u001b[0m \u001b[0mylabels\u001b[0m\u001b[0;34m)\u001b[0m\u001b[0;34m\u001b[0m\u001b[0;34m\u001b[0m\u001b[0m\n\u001b[1;32m     37\u001b[0m \u001b[0;34m\u001b[0m\u001b[0m\n",
            "\u001b[0;32m/usr/local/lib/python3.6/dist-packages/pandas/core/frame.py\u001b[0m in \u001b[0;36m__getitem__\u001b[0;34m(self, key)\u001b[0m\n\u001b[1;32m   2798\u001b[0m             \u001b[0;32mif\u001b[0m \u001b[0mself\u001b[0m\u001b[0;34m.\u001b[0m\u001b[0mcolumns\u001b[0m\u001b[0;34m.\u001b[0m\u001b[0mnlevels\u001b[0m \u001b[0;34m>\u001b[0m \u001b[0;36m1\u001b[0m\u001b[0;34m:\u001b[0m\u001b[0;34m\u001b[0m\u001b[0;34m\u001b[0m\u001b[0m\n\u001b[1;32m   2799\u001b[0m                 \u001b[0;32mreturn\u001b[0m \u001b[0mself\u001b[0m\u001b[0;34m.\u001b[0m\u001b[0m_getitem_multilevel\u001b[0m\u001b[0;34m(\u001b[0m\u001b[0mkey\u001b[0m\u001b[0;34m)\u001b[0m\u001b[0;34m\u001b[0m\u001b[0;34m\u001b[0m\u001b[0m\n\u001b[0;32m-> 2800\u001b[0;31m             \u001b[0mindexer\u001b[0m \u001b[0;34m=\u001b[0m \u001b[0mself\u001b[0m\u001b[0;34m.\u001b[0m\u001b[0mcolumns\u001b[0m\u001b[0;34m.\u001b[0m\u001b[0mget_loc\u001b[0m\u001b[0;34m(\u001b[0m\u001b[0mkey\u001b[0m\u001b[0;34m)\u001b[0m\u001b[0;34m\u001b[0m\u001b[0;34m\u001b[0m\u001b[0m\n\u001b[0m\u001b[1;32m   2801\u001b[0m             \u001b[0;32mif\u001b[0m \u001b[0mis_integer\u001b[0m\u001b[0;34m(\u001b[0m\u001b[0mindexer\u001b[0m\u001b[0;34m)\u001b[0m\u001b[0;34m:\u001b[0m\u001b[0;34m\u001b[0m\u001b[0;34m\u001b[0m\u001b[0m\n\u001b[1;32m   2802\u001b[0m                 \u001b[0mindexer\u001b[0m \u001b[0;34m=\u001b[0m \u001b[0;34m[\u001b[0m\u001b[0mindexer\u001b[0m\u001b[0;34m]\u001b[0m\u001b[0;34m\u001b[0m\u001b[0;34m\u001b[0m\u001b[0m\n",
            "\u001b[0;32m/usr/local/lib/python3.6/dist-packages/pandas/core/indexes/base.py\u001b[0m in \u001b[0;36mget_loc\u001b[0;34m(self, key, method, tolerance)\u001b[0m\n\u001b[1;32m   2646\u001b[0m                 \u001b[0;32mreturn\u001b[0m \u001b[0mself\u001b[0m\u001b[0;34m.\u001b[0m\u001b[0m_engine\u001b[0m\u001b[0;34m.\u001b[0m\u001b[0mget_loc\u001b[0m\u001b[0;34m(\u001b[0m\u001b[0mkey\u001b[0m\u001b[0;34m)\u001b[0m\u001b[0;34m\u001b[0m\u001b[0;34m\u001b[0m\u001b[0m\n\u001b[1;32m   2647\u001b[0m             \u001b[0;32mexcept\u001b[0m \u001b[0mKeyError\u001b[0m\u001b[0;34m:\u001b[0m\u001b[0;34m\u001b[0m\u001b[0;34m\u001b[0m\u001b[0m\n\u001b[0;32m-> 2648\u001b[0;31m                 \u001b[0;32mreturn\u001b[0m \u001b[0mself\u001b[0m\u001b[0;34m.\u001b[0m\u001b[0m_engine\u001b[0m\u001b[0;34m.\u001b[0m\u001b[0mget_loc\u001b[0m\u001b[0;34m(\u001b[0m\u001b[0mself\u001b[0m\u001b[0;34m.\u001b[0m\u001b[0m_maybe_cast_indexer\u001b[0m\u001b[0;34m(\u001b[0m\u001b[0mkey\u001b[0m\u001b[0;34m)\u001b[0m\u001b[0;34m)\u001b[0m\u001b[0;34m\u001b[0m\u001b[0;34m\u001b[0m\u001b[0m\n\u001b[0m\u001b[1;32m   2649\u001b[0m         \u001b[0mindexer\u001b[0m \u001b[0;34m=\u001b[0m \u001b[0mself\u001b[0m\u001b[0;34m.\u001b[0m\u001b[0mget_indexer\u001b[0m\u001b[0;34m(\u001b[0m\u001b[0;34m[\u001b[0m\u001b[0mkey\u001b[0m\u001b[0;34m]\u001b[0m\u001b[0;34m,\u001b[0m \u001b[0mmethod\u001b[0m\u001b[0;34m=\u001b[0m\u001b[0mmethod\u001b[0m\u001b[0;34m,\u001b[0m \u001b[0mtolerance\u001b[0m\u001b[0;34m=\u001b[0m\u001b[0mtolerance\u001b[0m\u001b[0;34m)\u001b[0m\u001b[0;34m\u001b[0m\u001b[0;34m\u001b[0m\u001b[0m\n\u001b[1;32m   2650\u001b[0m         \u001b[0;32mif\u001b[0m \u001b[0mindexer\u001b[0m\u001b[0;34m.\u001b[0m\u001b[0mndim\u001b[0m \u001b[0;34m>\u001b[0m \u001b[0;36m1\u001b[0m \u001b[0;32mor\u001b[0m \u001b[0mindexer\u001b[0m\u001b[0;34m.\u001b[0m\u001b[0msize\u001b[0m \u001b[0;34m>\u001b[0m \u001b[0;36m1\u001b[0m\u001b[0;34m:\u001b[0m\u001b[0;34m\u001b[0m\u001b[0;34m\u001b[0m\u001b[0m\n",
            "\u001b[0;32mpandas/_libs/index.pyx\u001b[0m in \u001b[0;36mpandas._libs.index.IndexEngine.get_loc\u001b[0;34m()\u001b[0m\n",
            "\u001b[0;32mpandas/_libs/index.pyx\u001b[0m in \u001b[0;36mpandas._libs.index.IndexEngine.get_loc\u001b[0;34m()\u001b[0m\n",
            "\u001b[0;32mpandas/_libs/hashtable_class_helper.pxi\u001b[0m in \u001b[0;36mpandas._libs.hashtable.PyObjectHashTable.get_item\u001b[0;34m()\u001b[0m\n",
            "\u001b[0;32mpandas/_libs/hashtable_class_helper.pxi\u001b[0m in \u001b[0;36mpandas._libs.hashtable.PyObjectHashTable.get_item\u001b[0;34m()\u001b[0m\n",
            "\u001b[0;31mKeyError\u001b[0m: 'Server'"
          ]
        }
      ]
    },
    {
      "cell_type": "markdown",
      "metadata": {
        "id": "nIQyE1QA87Wo",
        "colab_type": "text"
      },
      "source": [
        "Train using the random forest classifier"
      ]
    },
    {
      "cell_type": "code",
      "metadata": {
        "id": "GQCh3-qq9EWA",
        "colab_type": "code",
        "colab": {
          "base_uri": "https://localhost:8080/",
          "height": 224
        },
        "outputId": "9b0bc03a-f898-4356-a121-5d5a995e8a88"
      },
      "source": [
        "classifier_rf.fit(data_train[:,0].reshape(-1,1), labels_train)\n",
        "data_pred = classifier_rf.predict(data_test[:,0].reshape(-1,1))\n",
        "print(metrics.classification_report(data_pred, labels_test))"
      ],
      "execution_count": 13,
      "outputs": [
        {
          "output_type": "stream",
          "text": [
            "/usr/local/lib/python3.6/dist-packages/sklearn/metrics/_classification.py:1272: UndefinedMetricWarning: Recall and F-score are ill-defined and being set to 0.0 in labels with no true samples. Use `zero_division` parameter to control this behavior.\n",
            "  _warn_prf(average, modifier, msg_start, len(result))\n"
          ],
          "name": "stderr"
        },
        {
          "output_type": "stream",
          "text": [
            "              precision    recall  f1-score   support\n",
            "\n",
            "           0       0.00      0.00      0.00         0\n",
            "           1       1.00      0.67      0.81    222712\n",
            "\n",
            "    accuracy                           0.67    222712\n",
            "   macro avg       0.50      0.34      0.40    222712\n",
            "weighted avg       1.00      0.67      0.81    222712\n",
            "\n"
          ],
          "name": "stdout"
        }
      ]
    },
    {
      "cell_type": "markdown",
      "metadata": {
        "id": "M7keDMO9-1lU",
        "colab_type": "text"
      },
      "source": [
        "Train using the support vector classifier"
      ]
    },
    {
      "cell_type": "code",
      "metadata": {
        "id": "HJZwVaz2_AJ6",
        "colab_type": "code",
        "colab": {}
      },
      "source": [
        "classifier_svc.fit(data_train[:,0].reshape(-1,1), labels_train)\n",
        "data_pred = classifier_svc.predict(data_test[:,0].reshape(-1,1))\n",
        "print(metrics.classification_report(data_pred, labels_test))"
      ],
      "execution_count": null,
      "outputs": []
    }
  ]
}