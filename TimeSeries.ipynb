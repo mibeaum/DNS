{
  "nbformat": 4,
  "nbformat_minor": 0,
  "metadata": {
    "colab": {
      "name": "TimeSeries.ipynb",
      "provenance": [],
      "authorship_tag": "ABX9TyP8+WF429fVCOfAaKh3ZFwb",
      "include_colab_link": true
    },
    "kernelspec": {
      "name": "python3",
      "display_name": "Python 3"
    }
  },
  "cells": [
    {
      "cell_type": "markdown",
      "metadata": {
        "id": "view-in-github",
        "colab_type": "text"
      },
      "source": [
        "<a href=\"https://colab.research.google.com/github/mibeaum/ML/blob/master/TimeSeries.ipynb\" target=\"_parent\"><img src=\"https://colab.research.google.com/assets/colab-badge.svg\" alt=\"Open In Colab\"/></a>"
      ]
    },
    {
      "cell_type": "markdown",
      "metadata": {
        "id": "oPCSlAlPEMRq",
        "colab_type": "text"
      },
      "source": [
        "**Time series classification**\n",
        "\n"
      ]
    },
    {
      "cell_type": "markdown",
      "metadata": {
        "id": "eH8xuaVU_MZm",
        "colab_type": "text"
      },
      "source": [
        "Load Python modules"
      ]
    },
    {
      "cell_type": "code",
      "metadata": {
        "id": "FO5ZPX9zEb_B",
        "colab_type": "code",
        "colab": {}
      },
      "source": [
        "import numpy as np  # Arrays, matrices and functions on them. Required by Pandas, below\n",
        "import pandas as pd # A data analysis library\n",
        "from sklearn.model_selection import train_test_split # scikit-learn, machine learning tools\n",
        "import matplotlib.pyplot as plt # A plotting library\n",
        "import seaborn as sns # Built on matplotlib, facilitates aesthetically pleasing plots\n",
        "import datetime\n",
        "from sklearn.neighbors import KNeighborsClassifier\n",
        "from sklearn import cluster\n",
        "from sklearn import metrics\n",
        "\n",
        "# General settings\n",
        "sns.set_style('whitegrid') # Plots will have a white grid\n",
        "# Variables that will help us work with the classes\n",
        "class_names = ['workstation', 'server']\n",
        "class_colors = ['darkorange', 'steelblue']\n",
        "\n",
        "classifier_3NN = KNeighborsClassifier(n_neighbors=3, metric='euclidean')\n"
      ],
      "execution_count": 12,
      "outputs": []
    },
    {
      "cell_type": "markdown",
      "metadata": {
        "id": "D1fFqErdBOv1",
        "colab_type": "text"
      },
      "source": [
        "Functions"
      ]
    },
    {
      "cell_type": "code",
      "metadata": {
        "id": "kzCrKpdIBS4y",
        "colab_type": "code",
        "colab": {}
      },
      "source": [
        "def load_data(filename):\n",
        "    ''' Load the data from a file in a GitHub repo '''\n",
        "    url_root = 'https://raw.githubusercontent.com/mibeaum/ML/master'\n",
        "    url = url_root+'/'+filename\n",
        "    mydateparser = lambda x: ( \n",
        "       pd.to_datetime(x, format=\"%d/%m/%Y%H:%M:%S\").strftime(\"%H\")\n",
        "    )    \n",
        "    df = pd.read_csv(url, sep=',', header=0, usecols = [\"server\", \"dateTime\", \"internalPacketIdentifier\"], parse_dates=['dateTime'], date_parser=mydateparser) # Use Pandas to load the data into a Pandas DataFrame\n",
        "    df[\"dateTime\"] = df[\"dateTime\"].astype(float)\n",
        "    df.sort_values(by=['dateTime'])\n",
        "    print('Loaded from', url)\n",
        "    data = df.values # Convert from a Pandas DataFrame to a numpy array\n",
        "    print('')\n",
        "    return df\n",
        "\n",
        "def plot_data_samples(df, labels):\n",
        "    ''' Plot the time series data relating to the input list of sample numbers '''\n",
        "    plt.scatter(df['dateTime'], df['server'])\n",
        "\n",
        "    ylabels = [x for x in df['server']]\n",
        "    plt.yticks(df['server'], ylabels)\n",
        "\n",
        "    print('')\n",
        "    #plt.set ylim([00.00, 23.59])\n",
        "    plt.title('workstation (class 0): server (class 1)')\n",
        "    plt.ylabel('Server')\n",
        "    plt.xlabel('Time (Hours)')    "
      ],
      "execution_count": 13,
      "outputs": []
    },
    {
      "cell_type": "markdown",
      "metadata": {
        "id": "4NolzYI6B5dN",
        "colab_type": "text"
      },
      "source": [
        "Load the data"
      ]
    },
    {
      "cell_type": "code",
      "metadata": {
        "id": "z4G5WUZPB7zy",
        "colab_type": "code",
        "colab": {
          "base_uri": "https://localhost:8080/",
          "height": 207
        },
        "outputId": "e9b18d38-fe5c-43ab-ea9a-c001bf8a0ca6"
      },
      "source": [
        "filename = 'data.csv'\n",
        "df = load_data(filename) \n",
        "data_log = df.values # Convert from a Pandas DataFrame to a numpy array\n",
        "print('These are the first 7 rows of data_log:\\n', data_log[0:7], '\\n')"
      ],
      "execution_count": 14,
      "outputs": [
        {
          "output_type": "stream",
          "text": [
            "Loaded from https://raw.githubusercontent.com/mibeaum/ML/master/data.csv\n",
            "\n",
            "These are the first 7 rows of data_log:\n",
            " [[0 8.0 '0000026335FA1560']\n",
            " [0 9.0 '0000026335FA1560']\n",
            " [1 19.0 '0000026335C83DB0']\n",
            " [1 20.0 '0000026335C83DB0']\n",
            " [0 10.0 '0000026338FC9920']\n",
            " [0 11.0 '0000026338FC9920']\n",
            " [0 11.0 '00000263351894F0']] \n",
            "\n"
          ],
          "name": "stdout"
        }
      ]
    },
    {
      "cell_type": "markdown",
      "metadata": {
        "id": "CUiywPW9nqSh",
        "colab_type": "text"
      },
      "source": [
        "Process the data"
      ]
    },
    {
      "cell_type": "code",
      "metadata": {
        "id": "0m_hJWbQnsNt",
        "colab_type": "code",
        "colab": {
          "base_uri": "https://localhost:8080/",
          "height": 259
        },
        "outputId": "b497c3f8-1699-4b9e-c8d3-68e105ad8be2"
      },
      "source": [
        "labels = data_log[:,0].astype(int)\n",
        "data = data_log[:,1:]\n",
        "print('The shape of the labels vector is', labels.shape)\n",
        "print('The shape of the data matrix is', data.shape)\n",
        "print('The labels is a vector. These are the first 7 elements of labels vector:\\n', labels[0:7], '\\n')\n",
        "print('The data is a matrix. These are the first 7 rows of data matrix:\\n', data[0:7], '\\n')\n",
        "\n"
      ],
      "execution_count": 15,
      "outputs": [
        {
          "output_type": "stream",
          "text": [
            "The shape of the labels vector is (42,)\n",
            "The shape of the data matrix is (42, 2)\n",
            "The labels is a vector. These are the first 7 elements of labels vector:\n",
            " [0 0 1 1 0 0 0] \n",
            "\n",
            "The data is a matrix. These are the first 7 rows of data matrix:\n",
            " [[8.0 '0000026335FA1560']\n",
            " [9.0 '0000026335FA1560']\n",
            " [19.0 '0000026335C83DB0']\n",
            " [20.0 '0000026335C83DB0']\n",
            " [10.0 '0000026338FC9920']\n",
            " [11.0 '0000026338FC9920']\n",
            " [11.0 '00000263351894F0']] \n",
            "\n"
          ],
          "name": "stdout"
        }
      ]
    },
    {
      "cell_type": "markdown",
      "metadata": {
        "id": "Oroom3fBonG1",
        "colab_type": "text"
      },
      "source": [
        "Plot the data"
      ]
    },
    {
      "cell_type": "code",
      "metadata": {
        "id": "WAUnR63oorkg",
        "colab_type": "code",
        "colab": {
          "base_uri": "https://localhost:8080/",
          "height": 312
        },
        "outputId": "cbf9d5b2-8209-4de7-b9ef-d6c76b5eba73"
      },
      "source": [
        "plot_data_samples(df[0:7], labels) "
      ],
      "execution_count": 16,
      "outputs": [
        {
          "output_type": "stream",
          "text": [
            "\n"
          ],
          "name": "stdout"
        },
        {
          "output_type": "display_data",
          "data": {
            "image/png": "[encoded data removed]",
            "text/plain": [
              "<Figure size 432x288 with 1 Axes>"
            ]
          },
          "metadata": {
            "tags": []
          }
        }
      ]
    },
    {
      "cell_type": "markdown",
      "metadata": {
        "id": "ljKRkIpER8sR",
        "colab_type": "text"
      },
      "source": [
        "Split the data set"
      ]
    },
    {
      "cell_type": "code",
      "metadata": {
        "id": "9AFIs-MOSBVx",
        "colab_type": "code",
        "colab": {
          "base_uri": "https://localhost:8080/",
          "height": 155
        },
        "outputId": "dee1f845-6c64-4b9a-d852-d8a04d7c7e2d"
      },
      "source": [
        "test_size = 21\n",
        "\n",
        "# Use the train_test_split from the scikit-learn (sklearn) module\n",
        "data_train, data_test, labels_train, labels_test = train_test_split(\n",
        "    data, labels, test_size=test_size, random_state=21, stratify=labels)\n",
        "\n",
        "print('The shape of data_train is', data_train.shape)\n",
        "print('The shape of data_test is', data_test.shape)\n",
        "print('Train data:')\n",
        "print('Number of samples of class 0', (labels_train == 0).sum())\n",
        "print('Number of samples of class 1', (labels_train == 1).sum())\n",
        "print('Test data:')\n",
        "print('Number of samples of class 0', (labels_test == 0).sum())\n",
        "print('Number of samples of class 1', (labels_test == 1).sum())\n"
      ],
      "execution_count": 17,
      "outputs": [
        {
          "output_type": "stream",
          "text": [
            "The shape of data_train is (21, 2)\n",
            "The shape of data_test is (21, 2)\n",
            "Train data:\n",
            "Number of samples of class 0 13\n",
            "Number of samples of class 1 8\n",
            "Test data:\n",
            "Number of samples of class 0 12\n",
            "Number of samples of class 1 9\n"
          ],
          "name": "stdout"
        }
      ]
    },
    {
      "cell_type": "markdown",
      "metadata": {
        "id": "PiopsUTPSbQJ",
        "colab_type": "text"
      },
      "source": [
        "Train using the knearest neighbours classifier\n",
        "\n"
      ]
    },
    {
      "cell_type": "code",
      "metadata": {
        "id": "2_YZMcwGSeJk",
        "colab_type": "code",
        "colab": {
          "base_uri": "https://localhost:8080/",
          "height": 69
        },
        "outputId": "4e625ad8-bd21-475e-dd0b-b6143ad2b8dc"
      },
      "source": [
        "classifier_3NN.fit(data_train[:,0].reshape(-1,1), labels_train)"
      ],
      "execution_count": 18,
      "outputs": [
        {
          "output_type": "execute_result",
          "data": {
            "text/plain": [
              "KNeighborsClassifier(algorithm='auto', leaf_size=30, metric='euclidean',\n",
              "                     metric_params=None, n_jobs=None, n_neighbors=3, p=2,\n",
              "                     weights='uniform')"
            ]
          },
          "metadata": {
            "tags": []
          },
          "execution_count": 18
        }
      ]
    },
    {
      "cell_type": "markdown",
      "metadata": {
        "id": "nyXymKGYUEJ4",
        "colab_type": "text"
      },
      "source": [
        "Test using the knearest neighbours classifier"
      ]
    },
    {
      "cell_type": "code",
      "metadata": {
        "id": "Qw_6c-VQUHQU",
        "colab_type": "code",
        "colab": {
          "base_uri": "https://localhost:8080/",
          "height": 863
        },
        "outputId": "e6164632-0477-4164-bd34-1c0ed8f79778"
      },
      "source": [
        "data_pred = classifier_3NN.predict(data_test[:,0].reshape(-1,1)) # Expects a 2 dimensional array not 1 (1,0) becomes ((1,),(0,))  \n",
        "\n",
        "# create output dataframe \n",
        "output_pred = data_test.copy();\n",
        "output_pred_df = pd.DataFrame({'server':labels_test, 'server_pred':data_pred})\n",
        "output_pred_df[\"hour_pred\"],output_pred_df[\"identifier_pred\"] = output_pred[:,0], output_pred[:,1]\n",
        "\n",
        "output_pred_df['diff'] = np.where(output_pred_df['server']==output_pred_df['server_pred'], 'no', 'yes')\n",
        "\n",
        "# output the accuracy scores\n",
        "print(metrics.classification_report(data_pred, labels_test))\n",
        "\n",
        "output_pred_df\n"
      ],
      "execution_count": 23,
      "outputs": [
        {
          "output_type": "stream",
          "text": [
            "              precision    recall  f1-score   support\n",
            "\n",
            "           0       1.00      1.00      1.00        12\n",
            "           1       1.00      1.00      1.00         9\n",
            "\n",
            "    accuracy                           1.00        21\n",
            "   macro avg       1.00      1.00      1.00        21\n",
            "weighted avg       1.00      1.00      1.00        21\n",
            "\n"
          ],
          "name": "stdout"
        },
        {
          "output_type": "execute_result",
          "data": {
            "text/html": [
              "<div>\n",
              "<style scoped>\n",
              "    .dataframe tbody tr th:only-of-type {\n",
              "        vertical-align: middle;\n",
              "    }\n",
              "\n",
              "    .dataframe tbody tr th {\n",
              "        vertical-align: top;\n",
              "    }\n",
              "\n",
              "    .dataframe thead th {\n",
              "        text-align: right;\n",
              "    }\n",
              "</style>\n",
              "<table border=\"1\" class=\"dataframe\">\n",
              "  <thead>\n",
              "    <tr style=\"text-align: right;\">\n",
              "      <th></th>\n",
              "      <th>server</th>\n",
              "      <th>server_pred</th>\n",
              "      <th>hour_pred</th>\n",
              "      <th>identifier_pred</th>\n",
              "      <th>diff</th>\n",
              "    </tr>\n",
              "  </thead>\n",
              "  <tbody>\n",
              "    <tr>\n",
              "      <th>0</th>\n",
              "      <td>0</td>\n",
              "      <td>0</td>\n",
              "      <td>13</td>\n",
              "      <td>0000026338FC9920</td>\n",
              "      <td>no</td>\n",
              "    </tr>\n",
              "    <tr>\n",
              "      <th>1</th>\n",
              "      <td>0</td>\n",
              "      <td>0</td>\n",
              "      <td>14</td>\n",
              "      <td>00000263351894F0</td>\n",
              "      <td>no</td>\n",
              "    </tr>\n",
              "    <tr>\n",
              "      <th>2</th>\n",
              "      <td>1</td>\n",
              "      <td>1</td>\n",
              "      <td>20</td>\n",
              "      <td>0000026335C83DB0</td>\n",
              "      <td>no</td>\n",
              "    </tr>\n",
              "    <tr>\n",
              "      <th>3</th>\n",
              "      <td>1</td>\n",
              "      <td>1</td>\n",
              "      <td>22</td>\n",
              "      <td>0000026335C83DB0</td>\n",
              "      <td>no</td>\n",
              "    </tr>\n",
              "    <tr>\n",
              "      <th>4</th>\n",
              "      <td>0</td>\n",
              "      <td>0</td>\n",
              "      <td>15</td>\n",
              "      <td>0000026338FC9920</td>\n",
              "      <td>no</td>\n",
              "    </tr>\n",
              "    <tr>\n",
              "      <th>5</th>\n",
              "      <td>1</td>\n",
              "      <td>1</td>\n",
              "      <td>20</td>\n",
              "      <td>000002633810C960</td>\n",
              "      <td>no</td>\n",
              "    </tr>\n",
              "    <tr>\n",
              "      <th>6</th>\n",
              "      <td>0</td>\n",
              "      <td>0</td>\n",
              "      <td>11</td>\n",
              "      <td>00000263351894F0</td>\n",
              "      <td>no</td>\n",
              "    </tr>\n",
              "    <tr>\n",
              "      <th>7</th>\n",
              "      <td>1</td>\n",
              "      <td>1</td>\n",
              "      <td>23</td>\n",
              "      <td>0000026335C83DB0</td>\n",
              "      <td>no</td>\n",
              "    </tr>\n",
              "    <tr>\n",
              "      <th>8</th>\n",
              "      <td>0</td>\n",
              "      <td>0</td>\n",
              "      <td>10</td>\n",
              "      <td>0000026338FC9920</td>\n",
              "      <td>no</td>\n",
              "    </tr>\n",
              "    <tr>\n",
              "      <th>9</th>\n",
              "      <td>0</td>\n",
              "      <td>0</td>\n",
              "      <td>14</td>\n",
              "      <td>0000026335FA1560</td>\n",
              "      <td>no</td>\n",
              "    </tr>\n",
              "    <tr>\n",
              "      <th>10</th>\n",
              "      <td>0</td>\n",
              "      <td>0</td>\n",
              "      <td>11</td>\n",
              "      <td>0000026338FC9920</td>\n",
              "      <td>no</td>\n",
              "    </tr>\n",
              "    <tr>\n",
              "      <th>11</th>\n",
              "      <td>1</td>\n",
              "      <td>1</td>\n",
              "      <td>3</td>\n",
              "      <td>0000026335C83DB0</td>\n",
              "      <td>no</td>\n",
              "    </tr>\n",
              "    <tr>\n",
              "      <th>12</th>\n",
              "      <td>0</td>\n",
              "      <td>0</td>\n",
              "      <td>14</td>\n",
              "      <td>0000026338FC9920</td>\n",
              "      <td>no</td>\n",
              "    </tr>\n",
              "    <tr>\n",
              "      <th>13</th>\n",
              "      <td>0</td>\n",
              "      <td>0</td>\n",
              "      <td>16</td>\n",
              "      <td>00000263351894F0</td>\n",
              "      <td>no</td>\n",
              "    </tr>\n",
              "    <tr>\n",
              "      <th>14</th>\n",
              "      <td>0</td>\n",
              "      <td>0</td>\n",
              "      <td>15</td>\n",
              "      <td>00000263351894F0</td>\n",
              "      <td>no</td>\n",
              "    </tr>\n",
              "    <tr>\n",
              "      <th>15</th>\n",
              "      <td>1</td>\n",
              "      <td>1</td>\n",
              "      <td>18</td>\n",
              "      <td>0000026339F5D130</td>\n",
              "      <td>no</td>\n",
              "    </tr>\n",
              "    <tr>\n",
              "      <th>16</th>\n",
              "      <td>1</td>\n",
              "      <td>1</td>\n",
              "      <td>20</td>\n",
              "      <td>000002633810C960</td>\n",
              "      <td>no</td>\n",
              "    </tr>\n",
              "    <tr>\n",
              "      <th>17</th>\n",
              "      <td>1</td>\n",
              "      <td>1</td>\n",
              "      <td>19</td>\n",
              "      <td>000002633810C960</td>\n",
              "      <td>no</td>\n",
              "    </tr>\n",
              "    <tr>\n",
              "      <th>18</th>\n",
              "      <td>0</td>\n",
              "      <td>0</td>\n",
              "      <td>14</td>\n",
              "      <td>0000026335FA1560</td>\n",
              "      <td>no</td>\n",
              "    </tr>\n",
              "    <tr>\n",
              "      <th>19</th>\n",
              "      <td>0</td>\n",
              "      <td>0</td>\n",
              "      <td>10</td>\n",
              "      <td>0000026338FC9920</td>\n",
              "      <td>no</td>\n",
              "    </tr>\n",
              "    <tr>\n",
              "      <th>20</th>\n",
              "      <td>1</td>\n",
              "      <td>1</td>\n",
              "      <td>1</td>\n",
              "      <td>000002633810C960</td>\n",
              "      <td>no</td>\n",
              "    </tr>\n",
              "  </tbody>\n",
              "</table>\n",
              "</div>"
            ],
            "text/plain": [
              "    server  server_pred hour_pred   identifier_pred diff\n",
              "0        0            0        13  0000026338FC9920   no\n",
              "1        0            0        14  00000263351894F0   no\n",
              "2        1            1        20  0000026335C83DB0   no\n",
              "3        1            1        22  0000026335C83DB0   no\n",
              "4        0            0        15  0000026338FC9920   no\n",
              "5        1            1        20  000002633810C960   no\n",
              "6        0            0        11  00000263351894F0   no\n",
              "7        1            1        23  0000026335C83DB0   no\n",
              "8        0            0        10  0000026338FC9920   no\n",
              "9        0            0        14  0000026335FA1560   no\n",
              "10       0            0        11  0000026338FC9920   no\n",
              "11       1            1         3  0000026335C83DB0   no\n",
              "12       0            0        14  0000026338FC9920   no\n",
              "13       0            0        16  00000263351894F0   no\n",
              "14       0            0        15  00000263351894F0   no\n",
              "15       1            1        18  0000026339F5D130   no\n",
              "16       1            1        20  000002633810C960   no\n",
              "17       1            1        19  000002633810C960   no\n",
              "18       0            0        14  0000026335FA1560   no\n",
              "19       0            0        10  0000026338FC9920   no\n",
              "20       1            1         1  000002633810C960   no"
            ]
          },
          "metadata": {
            "tags": []
          },
          "execution_count": 23
        }
      ]
    },
    {
      "cell_type": "markdown",
      "metadata": {
        "id": "3_fMipHOBFWq",
        "colab_type": "text"
      },
      "source": [
        "Train using the k-means clustering classifier"
      ]
    },
    {
      "cell_type": "code",
      "metadata": {
        "id": "GAcFzZbDd4BP",
        "colab_type": "code",
        "colab": {
          "base_uri": "https://localhost:8080/",
          "height": 68
        },
        "outputId": "7db390a3-aa2b-4dc9-f45a-522ef739e7a2"
      },
      "source": [
        "assigned_clust = classifier_clust.fit(data_test[:,0].reshape(-1,1))\n",
        "data_test[:,0]"
      ],
      "execution_count": null,
      "outputs": [
        {
          "output_type": "execute_result",
          "data": {
            "text/plain": [
              "array([13.0, 14.0, 20.0, 22.0, 15.0, 20.0, 11.0, 23.0, 10.0, 14.0, 11.0,\n",
              "       3.0, 14.0, 16.0, 15.0, 18.0, 20.0, 19.0, 14.0, 10.0, 1.0],\n",
              "      dtype=object)"
            ]
          },
          "metadata": {
            "tags": []
          },
          "execution_count": 147
        }
      ]
    },
    {
      "cell_type": "markdown",
      "metadata": {
        "id": "HnmfLMI7BUXw",
        "colab_type": "text"
      },
      "source": [
        "Test using the k-means clustering classifier\n",
        "\n",
        "\n",
        "\n"
      ]
    },
    {
      "cell_type": "code",
      "metadata": {
        "id": "6HKjw7rnBjQC",
        "colab_type": "code",
        "colab": {
          "base_uri": "https://localhost:8080/",
          "height": 170
        },
        "outputId": "a62c6f7f-bbc5-4290-804a-0842b253d2eb"
      },
      "source": [
        "# output the accuracy scores\n",
        "print(metrics.classification_report(assigned_clust.labels_, labels_test))"
      ],
      "execution_count": null,
      "outputs": [
        {
          "output_type": "stream",
          "text": [
            "              precision    recall  f1-score   support\n",
            "\n",
            "           0       0.67      0.53      0.59        15\n",
            "           1       0.22      0.33      0.27         6\n",
            "\n",
            "    accuracy                           0.48        21\n",
            "   macro avg       0.44      0.43      0.43        21\n",
            "weighted avg       0.54      0.48      0.50        21\n",
            "\n"
          ],
          "name": "stdout"
        }
      ]
    }
  ]
}