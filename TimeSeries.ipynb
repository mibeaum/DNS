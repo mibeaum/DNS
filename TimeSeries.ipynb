{
  "nbformat": 4,
  "nbformat_minor": 0,
  "metadata": {
    "colab": {
      "name": "TimeSeries.ipynb",
      "provenance": [],
      "authorship_tag": "ABX9TyPmegaBTQ4Ax4fjaopW+j0D",
      "include_colab_link": true
    },
    "kernelspec": {
      "name": "python3",
      "display_name": "Python 3"
    }
  },
  "cells": [
    {
      "cell_type": "markdown",
      "metadata": {
        "id": "view-in-github",
        "colab_type": "text"
      },
      "source": [
        "<a href=\"https://colab.research.google.com/github/mibeaum/ML/blob/master/TimeSeries.ipynb\" target=\"_parent\"><img src=\"https://colab.research.google.com/assets/colab-badge.svg\" alt=\"Open In Colab\"/></a>"
      ]
    },
    {
      "cell_type": "markdown",
      "metadata": {
        "id": "oPCSlAlPEMRq",
        "colab_type": "text"
      },
      "source": [
        "**Time series classification**\n",
        "\n"
      ]
    },
    {
      "cell_type": "markdown",
      "metadata": {
        "id": "eH8xuaVU_MZm",
        "colab_type": "text"
      },
      "source": [
        "Load Python modules"
      ]
    },
    {
      "cell_type": "code",
      "metadata": {
        "id": "FO5ZPX9zEb_B",
        "colab_type": "code",
        "colab": {}
      },
      "source": [
        "import numpy as np  # Arrays, matrices and functions on them. Required by Pandas, below\n",
        "import pandas as pd # A data analysis library\n",
        "from sklearn.model_selection import train_test_split # scikit-learn, machine learning tools\n",
        "import matplotlib.pyplot as plt # A plotting library\n",
        "import seaborn as sns # Built on matplotlib, facilitates aesthetically pleasing plots\n",
        "\n",
        "# General settings\n",
        "sns.set_style('whitegrid') # Plots will have a white grid\n",
        "# Variables that will help us work with the classes\n",
        "class_names = ['cement', 'carpet']\n",
        "class_colors = ['darkorange', 'steelblue']"
      ],
      "execution_count": 4,
      "outputs": []
    },
    {
      "cell_type": "markdown",
      "metadata": {
        "id": "D1fFqErdBOv1",
        "colab_type": "text"
      },
      "source": [
        "Functions"
      ]
    },
    {
      "cell_type": "code",
      "metadata": {
        "id": "kzCrKpdIBS4y",
        "colab_type": "code",
        "colab": {}
      },
      "source": [
        "def load_data(filename):\n",
        "    ''' Load the data from a file in a GitHub repo '''\n",
        "    url_root = 'https://raw.githubusercontent.com/mibeaum/ML/master'\n",
        "    url = url_root+'/'+filename\n",
        "    df = pd.read_csv(url, sep=',', header=None) # Use Pandas to load the data into a Pandas DataFrame\n",
        "    print('Loaded from', url)\n",
        "    data = df.values # Convert from a Pandas DataFrame to a numpy array\n",
        "    print('The shape of data is', data.shape)\n",
        "    print('')\n",
        "    return data"
      ],
      "execution_count": 11,
      "outputs": []
    },
    {
      "cell_type": "markdown",
      "metadata": {
        "id": "4NolzYI6B5dN",
        "colab_type": "text"
      },
      "source": [
        "Load the data"
      ]
    },
    {
      "cell_type": "code",
      "metadata": {
        "id": "z4G5WUZPB7zy",
        "colab_type": "code",
        "colab": {
          "base_uri": "https://localhost:8080/",
          "height": 238
        },
        "outputId": "2793f4ea-45f1-482c-e983-34605e3392d5"
      },
      "source": [
        "filename = 'data.csv'\n",
        "data = load_data(filename) \n",
        "print('The data is a matrix. These are the first 7 rows and 5 columns of data:\\n', data[:7, :5], '\\n')"
      ],
      "execution_count": 12,
      "outputs": [
        {
          "output_type": "stream",
          "text": [
            "Loaded from https://raw.githubusercontent.com/mibeaum/ML/master/data.csv\n",
            "The shape of data is (43, 47)\n",
            "\n",
            "The data is a matrix. These are the first 7 rows and 5 columns of data:\n",
            " [['dateTime' 'threadID' 'context' 'internalPacketIdentifier'\n",
            "  'tcpipIndicator']\n",
            " ['01/06/202014:49:12' '1014' 'PACKET' '0000026335FA1560' 'UDP']\n",
            " ['01/06/202014:49:12' '1014' 'PACKET' '0000026335FA1560' 'UDP']\n",
            " ['01/06/202014:49:12' '1014' 'PACKET' '0000026335C83DB0' 'UDP']\n",
            " ['01/06/202014:49:12' '1014' 'PACKET' '0000026335C83DB0' 'UDP']\n",
            " ['01/06/202014:49:12' '1014' 'PACKET' '0000026338FC9920' 'UDP']\n",
            " ['01/06/202014:49:12' '1014' 'PACKET' '0000026338FC9920' 'UDP']] \n",
            "\n"
          ],
          "name": "stdout"
        }
      ]
    }
  ]
}