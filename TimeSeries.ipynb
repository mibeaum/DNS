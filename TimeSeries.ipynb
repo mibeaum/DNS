{
  "nbformat": 4,
  "nbformat_minor": 0,
  "metadata": {
    "colab": {
      "name": "TimeSeries.ipynb",
      "provenance": [],
      "authorship_tag": "ABX9TyOe8P3jcyZ8k7p9GjNk8Tly",
      "include_colab_link": true
    },
    "kernelspec": {
      "name": "python3",
      "display_name": "Python 3"
    }
  },
  "cells": [
    {
      "cell_type": "markdown",
      "metadata": {
        "id": "view-in-github",
        "colab_type": "text"
      },
      "source": [
        "<a href=\"https://colab.research.google.com/github/mibeaum/ML/blob/master/TimeSeries.ipynb\" target=\"_parent\"><img src=\"https://colab.research.google.com/assets/colab-badge.svg\" alt=\"Open In Colab\"/></a>"
      ]
    },
    {
      "cell_type": "markdown",
      "metadata": {
        "id": "oPCSlAlPEMRq",
        "colab_type": "text"
      },
      "source": [
        "**Time series classification**\n",
        "\n"
      ]
    },
    {
      "cell_type": "markdown",
      "metadata": {
        "id": "eH8xuaVU_MZm",
        "colab_type": "text"
      },
      "source": [
        "Load Python modules"
      ]
    },
    {
      "cell_type": "code",
      "metadata": {
        "id": "FO5ZPX9zEb_B",
        "colab_type": "code",
        "colab": {
          "base_uri": "https://localhost:8080/",
          "height": 51
        },
        "outputId": "b3b5ef4e-b7ff-4191-ef0c-aea34cdb036e"
      },
      "source": [
        "import numpy as np  # Arrays, matrices and functions on them. Required by Pandas, below\n",
        "import pandas as pd # A data analysis library\n",
        "from sklearn.model_selection import train_test_split # scikit-learn, machine learning tools\n",
        "import matplotlib.pyplot as plt # A plotting library\n",
        "import seaborn as sns # Built on matplotlib, facilitates aesthetically pleasing plots\n",
        "import datetime\n",
        "from sklearn.neighbors import KNeighborsClassifier\n",
        "from sklearn import cluster\n",
        "from sklearn import metrics\n",
        "\n",
        "# General settings\n",
        "sns.set_style('whitegrid') # Plots will have a white grid\n",
        "# Variables that will help us work with the classes\n",
        "class_names = ['workstation', 'server']\n",
        "class_colors = ['darkorange', 'steelblue']\n",
        "\n",
        "classifier_3NN = KNeighborsClassifier(n_neighbors=3, metric='euclidean')\n"
      ],
      "execution_count": 1,
      "outputs": [
        {
          "output_type": "stream",
          "text": [
            "/usr/local/lib/python3.6/dist-packages/statsmodels/tools/_testing.py:19: FutureWarning: pandas.util.testing is deprecated. Use the functions in the public API at pandas.testing instead.\n",
            "  import pandas.util.testing as tm\n"
          ],
          "name": "stderr"
        }
      ]
    },
    {
      "cell_type": "markdown",
      "metadata": {
        "id": "D1fFqErdBOv1",
        "colab_type": "text"
      },
      "source": [
        "Functions"
      ]
    },
    {
      "cell_type": "code",
      "metadata": {
        "id": "kzCrKpdIBS4y",
        "colab_type": "code",
        "colab": {}
      },
      "source": [
        "def load_data(filename):\n",
        "    ''' Load the data from a file in a GitHub repo '''\n",
        "    url_root = 'https://raw.githubusercontent.com/mibeaum/ML/master'\n",
        "    url = url_root+'/'+filename\n",
        "    mydateparser = lambda x: ( \n",
        "       pd.to_datetime(x, format=\"%d/%m/%Y%H:%M:%S\").strftime(\"%H\")\n",
        "    )    \n",
        "    df = pd.read_csv(url, sep=',', header=0, usecols = [\"server\", \"dateTime\", \"internalPacketIdentifier\"], parse_dates=['dateTime'], date_parser=mydateparser) # Use Pandas to load the data into a Pandas DataFrame\n",
        "    df[\"dateTime\"] = df[\"dateTime\"].astype(float)\n",
        "    df.sort_values(by=['dateTime'])\n",
        "    print('Loaded from', url)\n",
        "    data = df.values # Convert from a Pandas DataFrame to a numpy array\n",
        "    print('')\n",
        "    return df\n",
        "\n",
        "def plot_data_samples(df):\n",
        "    ''' Plot the time series data relating to the input list of sample numbers '''\n",
        "    plt.scatter(df['dateTime'], df['server'])\n",
        "\n",
        "    ylabels = [x for x in df['server']]\n",
        "    plt.yticks(df['server'], ylabels)\n",
        "\n",
        "    print('')\n",
        "    #plt.set ylim([00.00, 23.59])\n",
        "    plt.title('workstation (class 0): server (class 1)')\n",
        "    plt.ylabel('Server')\n",
        "    plt.xlabel('Time (Hours)') \n",
        "\n",
        "\n",
        "def plot_data(df):\n",
        "    ''' Plot the time series data relating to the input list of sample numbers '''\n",
        "\n",
        "    ylabels = [x for x in df['server']]\n",
        "    plt.yticks(df['server'], ylabels)\n",
        "\n",
        "    plt.title('workstation (class 0): server (class 1)')\n",
        "    plt.ylabel('Server')\n",
        "    plt.xlabel('Time (Hours)') \n",
        "\n",
        "    groups = df.groupby(\"diff\")\n",
        "    for name, group in groups:\n",
        "       plt.plot(group[\"hour_pred\"], group[\"server\"], marker=\"o\", linestyle=\"\", label=name)\n",
        "\n",
        "    #plt.scatter(df['hour_pred'], df['server'], marker=\"o\", linestyle=\"\", label=df['diff'])\n",
        "    plt.legend(loc='center left', bbox_to_anchor=(1.0, 0.5))   \n",
        "\n",
        "\n",
        "\n",
        "    \n"
      ],
      "execution_count": 150,
      "outputs": []
    },
    {
      "cell_type": "markdown",
      "metadata": {
        "id": "4NolzYI6B5dN",
        "colab_type": "text"
      },
      "source": [
        "Load the data"
      ]
    },
    {
      "cell_type": "code",
      "metadata": {
        "id": "z4G5WUZPB7zy",
        "colab_type": "code",
        "colab": {
          "base_uri": "https://localhost:8080/",
          "height": 204
        },
        "outputId": "e3654a2d-b377-403d-c442-0132f96f0175"
      },
      "source": [
        "filename = 'data.csv'\n",
        "df = load_data(filename) \n",
        "data_log = df.values # Convert from a Pandas DataFrame to a numpy array\n",
        "print('These are the first 7 rows of data_log:\\n', data_log[0:7], '\\n')"
      ],
      "execution_count": 151,
      "outputs": [
        {
          "output_type": "stream",
          "text": [
            "Loaded from https://raw.githubusercontent.com/mibeaum/ML/master/data.csv\n",
            "\n",
            "These are the first 7 rows of data_log:\n",
            " [[0 8.0 '0000026335FA1560']\n",
            " [0 9.0 '0000026335FA1560']\n",
            " [1 19.0 '0000026335C83DB0']\n",
            " [1 20.0 '0000026335C83DB0']\n",
            " [0 10.0 '0000026338FC9920']\n",
            " [0 11.0 '0000026338FC9920']\n",
            " [0 11.0 '00000263351894F0']] \n",
            "\n"
          ],
          "name": "stdout"
        }
      ]
    },
    {
      "cell_type": "markdown",
      "metadata": {
        "id": "CUiywPW9nqSh",
        "colab_type": "text"
      },
      "source": [
        "Process the data"
      ]
    },
    {
      "cell_type": "code",
      "metadata": {
        "id": "0m_hJWbQnsNt",
        "colab_type": "code",
        "colab": {
          "base_uri": "https://localhost:8080/",
          "height": 255
        },
        "outputId": "c8f6f0b6-89e8-4383-ee10-1514e536c464"
      },
      "source": [
        "labels = data_log[:,0].astype(int)\n",
        "data = data_log[:,1:]\n",
        "print('The shape of the labels vector is', labels.shape)\n",
        "print('The shape of the data matrix is', data.shape)\n",
        "print('The labels is a vector. These are the first 7 elements of labels vector:\\n', labels[0:7], '\\n')\n",
        "print('The data is a matrix. These are the first 7 rows of data matrix:\\n', data[0:7], '\\n')\n",
        "\n"
      ],
      "execution_count": 152,
      "outputs": [
        {
          "output_type": "stream",
          "text": [
            "The shape of the labels vector is (42,)\n",
            "The shape of the data matrix is (42, 2)\n",
            "The labels is a vector. These are the first 7 elements of labels vector:\n",
            " [0 0 1 1 0 0 0] \n",
            "\n",
            "The data is a matrix. These are the first 7 rows of data matrix:\n",
            " [[8.0 '0000026335FA1560']\n",
            " [9.0 '0000026335FA1560']\n",
            " [19.0 '0000026335C83DB0']\n",
            " [20.0 '0000026335C83DB0']\n",
            " [10.0 '0000026338FC9920']\n",
            " [11.0 '0000026338FC9920']\n",
            " [11.0 '00000263351894F0']] \n",
            "\n"
          ],
          "name": "stdout"
        }
      ]
    },
    {
      "cell_type": "markdown",
      "metadata": {
        "id": "Oroom3fBonG1",
        "colab_type": "text"
      },
      "source": [
        "Plot the data"
      ]
    },
    {
      "cell_type": "code",
      "metadata": {
        "id": "WAUnR63oorkg",
        "colab_type": "code",
        "colab": {
          "base_uri": "https://localhost:8080/",
          "height": 312
        },
        "outputId": "3e1da386-f48a-4b5a-945c-f6939c9566aa"
      },
      "source": [
        "plot_data_samples(df[0:7]) "
      ],
      "execution_count": 153,
      "outputs": [
        {
          "output_type": "stream",
          "text": [
            "\n"
          ],
          "name": "stdout"
        },
        {
          "output_type": "display_data",
          "data": {
            "image/png": "[encoded data removed]",
            "text/plain": [
              "<Figure size 432x288 with 1 Axes>"
            ]
          },
          "metadata": {
            "tags": [],
            "needs_background": "light"
          }
        }
      ]
    },
    {
      "cell_type": "markdown",
      "metadata": {
        "id": "ljKRkIpER8sR",
        "colab_type": "text"
      },
      "source": [
        "Split the data set"
      ]
    },
    {
      "cell_type": "code",
      "metadata": {
        "id": "9AFIs-MOSBVx",
        "colab_type": "code",
        "colab": {
          "base_uri": "https://localhost:8080/",
          "height": 153
        },
        "outputId": "58df0f10-663b-4b46-d1d9-b0cb790d33ef"
      },
      "source": [
        "test_size = 21\n",
        "\n",
        "# Use the train_test_split from the scikit-learn (sklearn) module\n",
        "data_train, data_test, labels_train, labels_test = train_test_split(\n",
        "    data, labels, test_size=test_size, random_state=21, stratify=labels)\n",
        "\n",
        "print('The shape of data_train is', data_train.shape)\n",
        "print('The shape of data_test is', data_test.shape)\n",
        "print('Train data:')\n",
        "print('Number of samples of class 0', (labels_train == 0).sum())\n",
        "print('Number of samples of class 1', (labels_train == 1).sum())\n",
        "print('Test data:')\n",
        "print('Number of samples of class 0', (labels_test == 0).sum())\n",
        "print('Number of samples of class 1', (labels_test == 1).sum())\n"
      ],
      "execution_count": 154,
      "outputs": [
        {
          "output_type": "stream",
          "text": [
            "The shape of data_train is (21, 2)\n",
            "The shape of data_test is (21, 2)\n",
            "Train data:\n",
            "Number of samples of class 0 13\n",
            "Number of samples of class 1 8\n",
            "Test data:\n",
            "Number of samples of class 0 12\n",
            "Number of samples of class 1 9\n"
          ],
          "name": "stdout"
        }
      ]
    },
    {
      "cell_type": "markdown",
      "metadata": {
        "id": "PiopsUTPSbQJ",
        "colab_type": "text"
      },
      "source": [
        "Train using the knearest neighbours classifier\n",
        "\n"
      ]
    },
    {
      "cell_type": "code",
      "metadata": {
        "id": "2_YZMcwGSeJk",
        "colab_type": "code",
        "colab": {
          "base_uri": "https://localhost:8080/",
          "height": 68
        },
        "outputId": "ba108d67-2018-470f-b1de-39573fb0f315"
      },
      "source": [
        "classifier_3NN.fit(data_train[:,0].reshape(-1,1), labels_train)"
      ],
      "execution_count": 155,
      "outputs": [
        {
          "output_type": "execute_result",
          "data": {
            "text/plain": [
              "KNeighborsClassifier(algorithm='auto', leaf_size=30, metric='euclidean',\n",
              "                     metric_params=None, n_jobs=None, n_neighbors=3, p=2,\n",
              "                     weights='uniform')"
            ]
          },
          "metadata": {
            "tags": []
          },
          "execution_count": 155
        }
      ]
    },
    {
      "cell_type": "markdown",
      "metadata": {
        "id": "nyXymKGYUEJ4",
        "colab_type": "text"
      },
      "source": [
        "Test using the knearest neighbours classifier"
      ]
    },
    {
      "cell_type": "code",
      "metadata": {
        "id": "Qw_6c-VQUHQU",
        "colab_type": "code",
        "colab": {
          "base_uri": "https://localhost:8080/",
          "height": 448
        },
        "outputId": "6b748017-06f9-44e0-e893-5fbbfddecc7b"
      },
      "source": [
        "data_pred = classifier_3NN.predict(data_test[:,0].reshape(-1,1)) # Expects a 2 dimensional array not 1 (1,0) becomes ((1,),(0,))  \n",
        "\n",
        "# create output dataframe \n",
        "output_pred = data_test.copy();\n",
        "output_pred_df = pd.DataFrame({'server':labels_test, 'server_pred':data_pred})\n",
        "output_pred_df[\"hour_pred\"],output_pred_df[\"identifier_pred\"],output_pred_df['diff'] = output_pred[:,0], output_pred[:,1],np.where(output_pred_df['server']==output_pred_df['server_pred'], 'no', 'yes')\n",
        " \n",
        "# output the accuracy scores\n",
        "print(metrics.classification_report(data_pred, labels_test))\n",
        "\n"
      ],
      "execution_count": 156,
      "outputs": [
        {
          "output_type": "stream",
          "text": [
            "              precision    recall  f1-score   support\n",
            "\n",
            "           0       1.00      1.00      1.00        12\n",
            "           1       1.00      1.00      1.00         9\n",
            "\n",
            "    accuracy                           1.00        21\n",
            "   macro avg       1.00      1.00      1.00        21\n",
            "weighted avg       1.00      1.00      1.00        21\n",
            "\n"
          ],
          "name": "stdout"
        },
        {
          "output_type": "display_data",
          "data": {
            "image/png": "[encoded data removed]",
            "text/plain": [
              "<Figure size 432x288 with 1 Axes>"
            ]
          },
          "metadata": {
            "tags": [],
            "needs_background": "light"
          }
        }
      ]
    },
    {
      "cell_type": "markdown",
      "metadata": {
        "id": "kmRcZCRqxJCz",
        "colab_type": "text"
      },
      "source": [
        "Plot test prediction\n",
        " \n",
        "*   'no'  there are no differences between actual and predicted\n",
        "*   'yes' there are differences between actual and predicted "
      ]
    },
    {
      "cell_type": "code",
      "metadata": {
        "id": "6HKjw7rnBjQC",
        "colab_type": "code",
        "colab": {
          "base_uri": "https://localhost:8080/",
          "height": 295
        },
        "outputId": "03d70f43-8452-4c59-95ab-8f9e9f9c40a6"
      },
      "source": [
        "plot_data(output_pred_df)"
      ],
      "execution_count": 158,
      "outputs": [
        {
          "output_type": "display_data",
          "data": {
            "image/png": "[encoded data removed]",
            "text/plain": [
              "<Figure size 432x288 with 1 Axes>"
            ]
          },
          "metadata": {
            "tags": [],
            "needs_background": "light"
          }
        }
      ]
    }
  ]
}