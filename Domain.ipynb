{
  "nbformat": 4,
  "nbformat_minor": 0,
  "metadata": {
    "colab": {
      "name": "Domain.ipynb",
      "provenance": [],
      "authorship_tag": "ABX9TyOsOnKRoqNjYmsLem0i0HJC",
      "include_colab_link": true
    },
    "kernelspec": {
      "name": "python3",
      "display_name": "Python 3"
    }
  },
  "cells": [
    {
      "cell_type": "markdown",
      "metadata": {
        "id": "view-in-github",
        "colab_type": "text"
      },
      "source": [
        "<a href=\"https://colab.research.google.com/github/mibeaum/ML/blob/master/Domain.ipynb\" target=\"_parent\"><img src=\"https://colab.research.google.com/assets/colab-badge.svg\" alt=\"Open In Colab\"/></a>"
      ]
    },
    {
      "cell_type": "code",
      "metadata": {
        "id": "bmawajJDM4oB",
        "colab_type": "code",
        "colab": {}
      },
      "source": [
        "Domain Classification"
      ],
      "execution_count": null,
      "outputs": []
    },
    {
      "cell_type": "markdown",
      "metadata": {
        "id": "h81o_KpxYvXZ",
        "colab_type": "text"
      },
      "source": [
        "Proposed to split a given url into initial sub domain and domain names\n",
        "![domain](domain.png)"
      ]
    },
    {
      "cell_type": "markdown",
      "metadata": {
        "id": "ko3FZJTFZsw1",
        "colab_type": "text"
      },
      "source": [
        ""
      ]
    }
  ]
}