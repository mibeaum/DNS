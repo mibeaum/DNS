{
  "nbformat": 4,
  "nbformat_minor": 0,
  "metadata": {
    "colab": {
      "name": "Domain.ipynb",
      "provenance": [],
      "authorship_tag": "ABX9TyNuEiFnHv/odI1KrGlKgaF3",
      "include_colab_link": true
    },
    "kernelspec": {
      "name": "python3",
      "display_name": "Python 3"
    }
  },
  "cells": [
    {
      "cell_type": "markdown",
      "metadata": {
        "id": "view-in-github",
        "colab_type": "text"
      },
      "source": [
        "<a href=\"https://colab.research.google.com/github/mibeaum/ML/blob/master/Domain.ipynb\" target=\"_parent\"><img src=\"https://colab.research.google.com/assets/colab-badge.svg\" alt=\"Open In Colab\"/></a>"
      ]
    },
    {
      "cell_type": "markdown",
      "metadata": {
        "id": "h81o_KpxYvXZ",
        "colab_type": "text"
      },
      "source": [
        "**Domain Classification**\n",
        "\n",
        "Proposed to split a given URL into initial subdomain name and domain name\n",
        "![domain](https://github.com/mibeaum/ML/blob/master/domain.png?raw=1)\n",
        "\n",
        "The data csv columns:\n",
        "*   'querysub1' = domain name\n",
        "*   'querysub(n)' = initial sub domain (last 'querysub(n) that is populated)\n",
        "\n"
      ]
    },
    {
      "cell_type": "code",
      "metadata": {
        "id": "GksPI7irc86N",
        "colab_type": "code",
        "colab": {}
      },
      "source": [
        ""
      ],
      "execution_count": null,
      "outputs": []
    }
  ]
}