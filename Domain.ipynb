{
  "nbformat": 4,
  "nbformat_minor": 0,
  "metadata": {
    "colab": {
      "name": "Domain.ipynb",
      "provenance": [],
      "authorship_tag": "ABX9TyN8W6f4rXiXzpnGqzA4o8/k",
      "include_colab_link": true
    },
    "kernelspec": {
      "name": "python3",
      "display_name": "Python 3"
    }
  },
  "cells": [
    {
      "cell_type": "markdown",
      "metadata": {
        "id": "view-in-github",
        "colab_type": "text"
      },
      "source": [
        "<a href=\"https://colab.research.google.com/github/mibeaum/ML/blob/master/Domain.ipynb\" target=\"_parent\"><img src=\"https://colab.research.google.com/assets/colab-badge.svg\" alt=\"Open In Colab\"/></a>"
      ]
    },
    {
      "cell_type": "markdown",
      "metadata": {
        "id": "h81o_KpxYvXZ",
        "colab_type": "text"
      },
      "source": [
        "**Domain Classification**\n",
        "\n",
        "Proposed to split a given URL into initial subdomain name and domain name\n",
        "![domain](https://github.com/mibeaum/ML/blob/master/domain.png?raw=1)\n",
        "\n",
        "The data csv columns:\n",
        "*   'querysub1' = domain name\n",
        "*   'querysub(n)' = initial sub domain (last 'querysub(n) that is populated)\n",
        "\n"
      ]
    },
    {
      "cell_type": "code",
      "metadata": {
        "id": "GksPI7irc86N",
        "colab_type": "code",
        "colab": {
          "base_uri": "https://localhost:8080/",
          "height": 51
        },
        "outputId": "4874a529-9c0e-4623-9be4-0b43846ec1a9"
      },
      "source": [
        "import numpy as np  # Arrays, matrices and functions on them. Required by Pandas, below\n",
        "import pandas as pd # A data analysis library\n",
        "from sklearn.model_selection import train_test_split # scikit-learn, machine learning tools\n",
        "import matplotlib.pyplot as plt # A plotting library\n",
        "import seaborn as sns # Built on matplotlib, facilitates aesthetically pleasing plots\n",
        "import datetime\n",
        "from sklearn.neighbors import KNeighborsClassifier\n",
        "from sklearn.ensemble import RandomForestClassifier\n",
        "from sklearn.svm import SVC\n",
        "from sklearn import metrics\n",
        "\n",
        "# General settings\n",
        "sns.set_style('whitegrid') # Plots will have a white grid\n",
        "# Variables that will help us work with the classes\n",
        "class_names = ['workstation', 'server']\n",
        "class_colors = ['darkorange', 'steelblue']\n",
        "\n",
        "classifier_3NN = KNeighborsClassifier(n_neighbors=3, metric='euclidean')\n",
        "classifier_rf = RandomForestClassifier()\n",
        "classifier_svc = SVC()"
      ],
      "execution_count": 1,
      "outputs": [
        {
          "output_type": "stream",
          "text": [
            "/usr/local/lib/python3.6/dist-packages/statsmodels/tools/_testing.py:19: FutureWarning: pandas.util.testing is deprecated. Use the functions in the public API at pandas.testing instead.\n",
            "  import pandas.util.testing as tm\n"
          ],
          "name": "stderr"
        }
      ]
    },
    {
      "cell_type": "markdown",
      "metadata": {
        "id": "kYKV-dP8qB6F",
        "colab_type": "text"
      },
      "source": [
        "Functions"
      ]
    },
    {
      "cell_type": "code",
      "metadata": {
        "id": "AHKsJO_5qDNy",
        "colab_type": "code",
        "colab": {}
      },
      "source": [
        "def load_data(filename):\n",
        "    ''' Load the data from a file in a GitHub repo '''\n",
        "    url_root = 'https://raw.githubusercontent.com/mibeaum/ML/master'\n",
        "    url = url_root+'/'+filename    \n",
        "    df = pd.read_csv(url, sep=',', header=0)\n",
        "    print('Loaded from', url)\n",
        "    return df"
      ],
      "execution_count": 9,
      "outputs": []
    },
    {
      "cell_type": "code",
      "metadata": {
        "id": "VormwyLitYeO",
        "colab_type": "code",
        "colab": {
          "base_uri": "https://localhost:8080/",
          "height": 51
        },
        "outputId": "cc666eee-0c55-4a57-83e8-2049235525f4"
      },
      "source": [
        "filename = 'data.csv'\n",
        "df = load_data(filename) \n",
        "\n",
        "query_cols = [col for col in df.columns if 'querysub' in col]\n",
        "print(query_cols)\n"
      ],
      "execution_count": 14,
      "outputs": [
        {
          "output_type": "stream",
          "text": [
            "Loaded from https://raw.githubusercontent.com/mibeaum/ML/master/data.csv\n",
            "['querysub1', 'querysub2', 'querysub3', 'querysub4', 'querysub5', 'querysub6', 'querysub7', 'querysub8', 'querysub9', 'querysub10']\n"
          ],
          "name": "stdout"
        }
      ]
    }
  ]
}