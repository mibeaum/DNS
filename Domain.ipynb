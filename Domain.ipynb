{
  "nbformat": 4,
  "nbformat_minor": 0,
  "metadata": {
    "colab": {
      "name": "Domain.ipynb",
      "provenance": [],
      "authorship_tag": "ABX9TyP6K/oqagzGhcwPgd+QGAbu",
      "include_colab_link": true
    },
    "kernelspec": {
      "name": "python3",
      "display_name": "Python 3"
    }
  },
  "cells": [
    {
      "cell_type": "markdown",
      "metadata": {
        "id": "view-in-github",
        "colab_type": "text"
      },
      "source": [
        "<a href=\"https://colab.research.google.com/github/mibeaum/ML/blob/master/Domain.ipynb\" target=\"_parent\"><img src=\"https://colab.research.google.com/assets/colab-badge.svg\" alt=\"Open In Colab\"/></a>"
      ]
    },
    {
      "cell_type": "markdown",
      "metadata": {
        "id": "h81o_KpxYvXZ",
        "colab_type": "text"
      },
      "source": [
        "**Domain Classiffication**\n",
        "\n",
        "Proposed to split a given url into initial subdomain name and domain name\n",
        "![domain](https://github.com/mibeaum/ML/blob/master/domain.png?raw=1)\n",
        "\n",
        "The data csv columns 'querytld' = domain name and 'querysub1' = initial sub domain"
      ]
    },
    {
      "cell_type": "code",
      "metadata": {
        "id": "GksPI7irc86N",
        "colab_type": "code",
        "colab": {}
      },
      "source": [
        ""
      ],
      "execution_count": null,
      "outputs": []
    }
  ]
}